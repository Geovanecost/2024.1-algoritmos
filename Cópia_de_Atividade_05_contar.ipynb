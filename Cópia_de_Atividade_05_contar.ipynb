{
  "nbformat": 4,
  "nbformat_minor": 0,
  "metadata": {
    "colab": {
      "provenance": [],
      "authorship_tag": "ABX9TyPuOBo8dQX9Zq5RfunBfL3v",
      "include_colab_link": true
    },
    "kernelspec": {
      "name": "python3",
      "display_name": "Python 3"
    },
    "language_info": {
      "name": "python"
    }
  },
  "cells": [
    {
      "cell_type": "markdown",
      "metadata": {
        "id": "view-in-github",
        "colab_type": "text"
      },
      "source": [
        "<a href=\"https://colab.research.google.com/github/Geovanecost/2024.1-algoritmos/blob/main/C%C3%B3pia_de_Atividade_05_contar.ipynb\" target=\"_parent\"><img src=\"https://colab.research.google.com/assets/colab-badge.svg\" alt=\"Open In Colab\"/></a>"
      ]
    },
    {
      "cell_type": "code",
      "execution_count": null,
      "metadata": {
        "id": "mypjZdrNzYLB",
        "outputId": "f4614408-6893-430d-e19f-80d61e11f895",
        "colab": {
          "base_uri": "https://localhost:8080/"
        }
      },
      "outputs": [
        {
          "output_type": "stream",
          "name": "stdout",
          "text": [
            "{'a': 3, 'm': 1, 'p': 1, 'l': 1, 'i': 2, 'f': 1, 'c': 1, 'ç': 1, 'o': 1}\n"
          ]
        }
      ],
      "source": [
        "def contar_caracteres(palavra):\n",
        "    caracteres = {}\n",
        "    for caracter in palavra:\n",
        "        if caracter in caracteres:\n",
        "            caracteres[caracter] += 1\n",
        "        else:\n",
        "            caracteres[caracter] = 1\n",
        "    return caracteres\n",
        "pass\n",
        "print(contar_caracteres(\"amplificaçao\"))"
      ]
    }
  ]
}