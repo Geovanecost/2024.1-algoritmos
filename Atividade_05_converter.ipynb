{
  "nbformat": 4,
  "nbformat_minor": 0,
  "metadata": {
    "colab": {
      "provenance": [],
      "authorship_tag": "ABX9TyMQNEMskVyYaisIRVO5YAiZ",
      "include_colab_link": true
    },
    "kernelspec": {
      "name": "python3",
      "display_name": "Python 3"
    },
    "language_info": {
      "name": "python"
    }
  },
  "cells": [
    {
      "cell_type": "markdown",
      "metadata": {
        "id": "view-in-github",
        "colab_type": "text"
      },
      "source": [
        "<a href=\"https://colab.research.google.com/github/Geovanecost/2024.1-algoritmos/blob/main/Atividade_05_converter.ipynb\" target=\"_parent\"><img src=\"https://colab.research.google.com/assets/colab-badge.svg\" alt=\"Open In Colab\"/></a>"
      ]
    },
    {
      "cell_type": "code",
      "execution_count": 3,
      "metadata": {
        "id": "FGSHGDa1y2jo"
      },
      "outputs": [],
      "source": [
        "def converter_para_maiusculas(texto):\n",
        "    texto_maiusculo = texto.upper()\n",
        "    return texto_maiusculo\n",
        "\n",
        "def converter_para_minusculas(texto):\n",
        "    texto_minusculo = texto.lower()\n",
        "    return texto_minusculo\n",
        "pass"
      ]
    }
  ]
}