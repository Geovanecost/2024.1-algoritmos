{
  "nbformat": 4,
  "nbformat_minor": 0,
  "metadata": {
    "colab": {
      "provenance": [],
      "authorship_tag": "ABX9TyOEy1hlO5zDcYoj/Ckw5Dhx",
      "include_colab_link": true
    },
    "kernelspec": {
      "name": "python3",
      "display_name": "Python 3"
    },
    "language_info": {
      "name": "python"
    }
  },
  "cells": [
    {
      "cell_type": "markdown",
      "metadata": {
        "id": "view-in-github",
        "colab_type": "text"
      },
      "source": [
        "<a href=\"https://colab.research.google.com/github/Geovanecost/2024.1-algoritmos/blob/main/07_repeti%C3%A7ao_com_for.ipynb\" target=\"_parent\"><img src=\"https://colab.research.google.com/assets/colab-badge.svg\" alt=\"Open In Colab\"/></a>"
      ]
    },
    {
      "cell_type": "code",
      "execution_count": null,
      "metadata": {
        "id": "cTYdgvy1gYMt"
      },
      "outputs": [],
      "source": []
    },
    {
      "cell_type": "code",
      "source": [
        "contador  = 0\n",
        "for x in  ['span',  'eggs', 'bacon']:\n",
        "  contador  +=  1\n",
        "  print(f\"{contador}: {x}\")"
      ],
      "metadata": {
        "colab": {
          "base_uri": "https://localhost:8080/"
        },
        "id": "R2uE5G6fgiNv",
        "outputId": "4a3005ef-927e-4727-8339-7c04dbf07b0c"
      },
      "execution_count": 1,
      "outputs": [
        {
          "output_type": "stream",
          "name": "stdout",
          "text": [
            "1: span\n",
            "2: eggs\n",
            "3: bacon\n"
          ]
        }
      ]
    },
    {
      "cell_type": "code",
      "source": [
        "contador  = 0\n",
        "for x in  ['span',  'eggs', 'bacon']:\n",
        "  print(f\"{contador}: {x}\")\n",
        "  contador  +=  1"
      ],
      "metadata": {
        "colab": {
          "base_uri": "https://localhost:8080/"
        },
        "id": "FRvuKKqZilvz",
        "outputId": "2fb6f0a6-3ac1-4740-ff1b-bddf2b429f78"
      },
      "execution_count": 2,
      "outputs": [
        {
          "output_type": "stream",
          "name": "stdout",
          "text": [
            "0: span\n",
            "1: eggs\n",
            "2: bacon\n"
          ]
        }
      ]
    },
    {
      "cell_type": "code",
      "source": [
        "T = [(1,2), (3,3),  (5,6)]\n",
        "for(a,b)  in  T:\n",
        "  print(a, \"e\",b)"
      ],
      "metadata": {
        "colab": {
          "base_uri": "https://localhost:8080/"
        },
        "id": "hJVHirLQj9-W",
        "outputId": "d09d576a-183a-4d24-a4cf-2ee2b7d1087a"
      },
      "execution_count": 4,
      "outputs": [
        {
          "output_type": "stream",
          "name": "stdout",
          "text": [
            "1 e 2\n",
            "3 e 3\n",
            "5 e 6\n"
          ]
        }
      ]
    },
    {
      "cell_type": "code",
      "source": [
        "#Dicionario em  python\n",
        "D = {'a': 1,'b':  2,'c':3}\n",
        "for chave in  D:\n",
        "  print(chave,\"=>\",D[chave])"
      ],
      "metadata": {
        "colab": {
          "base_uri": "https://localhost:8080/"
        },
        "id": "TU-XDUQJkmSr",
        "outputId": "c98d7d89-1241-4fe6-d3a3-638fbef4e509"
      },
      "execution_count": 3,
      "outputs": [
        {
          "output_type": "stream",
          "name": "stdout",
          "text": [
            "a => 1\n",
            "b => 2\n",
            "c => 3\n"
          ]
        }
      ]
    },
    {
      "cell_type": "code",
      "source": [
        "list(range(10))"
      ],
      "metadata": {
        "colab": {
          "base_uri": "https://localhost:8080/"
        },
        "id": "hV47qW3PmO0e",
        "outputId": "d872e975-ed43-48c8-baff-abc66bf1e4eb"
      },
      "execution_count": 5,
      "outputs": [
        {
          "output_type": "execute_result",
          "data": {
            "text/plain": [
              "[0, 1, 2, 3, 4, 5, 6, 7, 8, 9]"
            ]
          },
          "metadata": {},
          "execution_count": 5
        }
      ]
    },
    {
      "cell_type": "code",
      "source": [
        "for i in  range(5):\n",
        "  print(i,\"pythons\")"
      ],
      "metadata": {
        "colab": {
          "base_uri": "https://localhost:8080/"
        },
        "id": "xAmloWZ5nJFW",
        "outputId": "5dff6083-543b-46b5-a53e-443bd3953858"
      },
      "execution_count": 6,
      "outputs": [
        {
          "output_type": "stream",
          "name": "stdout",
          "text": [
            "0 pythons\n",
            "1 pythons\n",
            "2 pythons\n",
            "3 pythons\n",
            "4 pythons\n"
          ]
        }
      ]
    },
    {
      "cell_type": "code",
      "source": [
        "s = 'geovane'\n",
        "print('Tamanho da  palavra',  len(s))\n",
        "for i in  range(len(s)):\n",
        "  print(i,s[i],sep='-',end='  ')"
      ],
      "metadata": {
        "colab": {
          "base_uri": "https://localhost:8080/"
        },
        "id": "k72Xzh_Onltv",
        "outputId": "885d4f9a-2ea5-4730-eca9-17439f40edef"
      },
      "execution_count": 13,
      "outputs": [
        {
          "output_type": "stream",
          "name": "stdout",
          "text": [
            "Tamanho da  palavra 7\n",
            "0-g  1-e  2-o  3-v  4-a  5-n  6-e  "
          ]
        }
      ]
    },
    {
      "cell_type": "markdown",
      "source": [
        "Uso do Zip"
      ],
      "metadata": {
        "id": "Yca4BStgq79V"
      }
    },
    {
      "cell_type": "code",
      "source": [
        "L1  = ['a','b','c','d']\n",
        "L2  =[1,2,3]\n",
        "print(list(L1))\n",
        "print(list(L2))\n",
        "compactado  = zip(L1,L2)\n",
        "print(list(compactado))\n",
        "print(type(compactado))#Qual  o tipo  de  classe?\n",
        "print(type(list(zip(L1,L2))))\n",
        "for (x,y) in  list(zip(L1,L2))\n",
        "  print(x,\"-\",y)"
      ],
      "metadata": {
        "colab": {
          "base_uri": "https://localhost:8080/"
        },
        "id": "RMfYkvsbrA-A",
        "outputId": "9f82f1ee-da25-43bb-8052-5572679262ce"
      },
      "execution_count": 14,
      "outputs": [
        {
          "output_type": "stream",
          "name": "stdout",
          "text": [
            "['a', 'b', 'c', 'd']\n",
            "[1, 2, 3]\n",
            "[('a', 1), ('b', 2), ('c', 3)]\n"
          ]
        }
      ]
    },
    {
      "cell_type": "code",
      "source": [
        "#zip  crie  um  dicionario  a partir  de  listas\n",
        "chaves  = ['a','b','c','d']\n",
        "valores = [1,2,3,4]\n",
        "D1  = dict(zip(chaves,valores))\n",
        "print(D1)"
      ],
      "metadata": {
        "colab": {
          "base_uri": "https://localhost:8080/"
        },
        "id": "bp41E7O_t8gk",
        "outputId": "f5862491-b52b-43db-dfb4-48c3c54fe8f5"
      },
      "execution_count": 15,
      "outputs": [
        {
          "output_type": "stream",
          "name": "stdout",
          "text": [
            "{'a': 1, 'b': 2, 'c': 3, 'd': 4}\n"
          ]
        }
      ]
    }
  ]
}