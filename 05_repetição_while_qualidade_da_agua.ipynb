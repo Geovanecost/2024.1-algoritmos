{
  "nbformat": 4,
  "nbformat_minor": 0,
  "metadata": {
    "colab": {
      "provenance": [],
      "authorship_tag": "ABX9TyMJvunpHlFweFYl2VpH88WL",
      "include_colab_link": true
    },
    "kernelspec": {
      "name": "python3",
      "display_name": "Python 3"
    },
    "language_info": {
      "name": "python"
    }
  },
  "cells": [
    {
      "cell_type": "markdown",
      "metadata": {
        "id": "view-in-github",
        "colab_type": "text"
      },
      "source": [
        "<a href=\"https://colab.research.google.com/github/Geovanecost/2024.1-algoritmos/blob/main/05_repeti%C3%A7%C3%A3o_while_qualidade_da_agua.ipynb\" target=\"_parent\"><img src=\"https://colab.research.google.com/assets/colab-badge.svg\" alt=\"Open In Colab\"/></a>"
      ]
    },
    {
      "cell_type": "code",
      "execution_count": 4,
      "metadata": {
        "colab": {
          "base_uri": "https://localhost:8080/"
        },
        "id": "MBfIYppR1rCi",
        "outputId": "feafe37f-9c15-4f2f-a54d-22494b7fe30e"
      },
      "outputs": [
        {
          "output_type": "stream",
          "name": "stdout",
          "text": [
            "Insira o nível de cloro da água para verificar se está dentro do padrão aceito.\n",
            "Digite o nível de cloro em mg/L: .1\n",
            "Atenção: O nível de cloro está abaixo do padrão aceitável\n",
            "Digite o nível de cloro em mg/L: 2.2\n",
            "Atenção: o nível de cloro está acima do padrão aceitável.\n",
            "Digite o nível de cloro em mg/L: 2\n",
            "O nível do cloro está dentro dos padrões aceitáveis.\n"
          ]
        }
      ],
      "source": [
        "from typing import ParamSpec\n",
        "#Programa de controle de qualidade de agua\n",
        "print(\"Insira o nível de cloro da água para verificar se está dentro do padrão aceito.\")\n",
        "paradinha = True\n",
        "#paradinha  = 1 #outro  exemplo\n",
        "\n",
        "while paradinha: #loop infinito // infinete loop\n",
        "  nivel_cloro = float(input(\"Digite o nível de cloro em mg/L: \"))\n",
        "  #verificando se o  0.2 > nivel_cloro < 2\n",
        "  if nivel_cloro < 0.2:\n",
        "    print(\"Atenção: O nível de cloro está abaixo do padrão aceitável\")\n",
        "  elif nivel_cloro > 2.0:\n",
        "    print(\"Atenção: o nível de cloro está acima do padrão aceitável.\")\n",
        "  else:\n",
        "    print(\"O nível do cloro está dentro dos padrões aceitáveis.\")\n",
        "    paradinha=  False\n",
        ""
      ]
    }
  ]
}