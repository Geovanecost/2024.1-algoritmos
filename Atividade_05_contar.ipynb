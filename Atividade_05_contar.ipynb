{
  "nbformat": 4,
  "nbformat_minor": 0,
  "metadata": {
    "colab": {
      "provenance": [],
      "authorship_tag": "ABX9TyPRQWSDIYW0JhCZdK1NlsWj",
      "include_colab_link": true
    },
    "kernelspec": {
      "name": "python3",
      "display_name": "Python 3"
    },
    "language_info": {
      "name": "python"
    }
  },
  "cells": [
    {
      "cell_type": "markdown",
      "metadata": {
        "id": "view-in-github",
        "colab_type": "text"
      },
      "source": [
        "<a href=\"https://colab.research.google.com/github/Geovanecost/2024.1-algoritmos/blob/main/Atividade_05_contar.ipynb\" target=\"_parent\"><img src=\"https://colab.research.google.com/assets/colab-badge.svg\" alt=\"Open In Colab\"/></a>"
      ]
    },
    {
      "cell_type": "code",
      "execution_count": 3,
      "metadata": {
        "id": "mypjZdrNzYLB"
      },
      "outputs": [],
      "source": [
        "def contar_caracteres(cadena):\n",
        "    caracteres = {}\n",
        "    for caracter in cadena:\n",
        "        if caracter in caracteres:\n",
        "            caracteres[caracter] += 1\n",
        "        else:\n",
        "            caracteres[caracter] = 1\n",
        "    return caracteres\n",
        "pass"
      ]
    }
  ]
}