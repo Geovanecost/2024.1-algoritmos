{
  "nbformat": 4,
  "nbformat_minor": 0,
  "metadata": {
    "colab": {
      "provenance": [],
      "authorship_tag": "ABX9TyP2OY2wRhvVgXUG7B+clCWW",
      "include_colab_link": true
    },
    "kernelspec": {
      "name": "python3",
      "display_name": "Python 3"
    },
    "language_info": {
      "name": "python"
    }
  },
  "cells": [
    {
      "cell_type": "markdown",
      "metadata": {
        "id": "view-in-github",
        "colab_type": "text"
      },
      "source": [
        "<a href=\"https://colab.research.google.com/github/Geovanecost/2024.1-algoritmos/blob/main/12_criptografia.ipynb\" target=\"_parent\"><img src=\"https://colab.research.google.com/assets/colab-badge.svg\" alt=\"Open In Colab\"/></a>"
      ]
    },
    {
      "cell_type": "code",
      "execution_count": 18,
      "metadata": {
        "colab": {
          "base_uri": "https://localhost:8080/"
        },
        "id": "vOFIsFfjYVG4",
        "outputId": "96a77573-6c14-486a-fd94-4cace0bc0383"
      },
      "outputs": [
        {
          "output_type": "stream",
          "name": "stdout",
          "text": [
            "digite a mensagem para criptografar: uma mensagem\n",
            "mensagem criptografada:  xpd#phqvdjhp\n",
            "mensagem descriptografada:  uma mensagem\n"
          ]
        }
      ],
      "source": [
        " #Criptografia\n",
        " def criptografia(msg):\n",
        "  s= ''\n",
        "  #Cifra de cesar\n",
        "  for i in msg:\n",
        "     s += chr(ord(i)+3)\n",
        "  return s\n",
        "\n",
        " def descriptografia(msg):\n",
        "   s= ''\n",
        "   for i in msg:\n",
        "    s += chr(ord(i)-3)\n",
        "   return s\n",
        "\n",
        "\n",
        " mensagem = input('digite a mensagem para criptografar: ')\n",
        " mensagem_criptografada = criptografia(mensagem)\n",
        " print('mensagem criptografada: ', mensagem_criptografada)\n",
        "\n",
        " mensagem_descriptografada = descriptografia(mensagem_criptografada)\n",
        " print('mensagem descriptografada: ', mensagem_descriptografada)\n"
      ]
    }
  ]
}