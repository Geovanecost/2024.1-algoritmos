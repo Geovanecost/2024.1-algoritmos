{
  "nbformat": 4,
  "nbformat_minor": 0,
  "metadata": {
    "colab": {
      "provenance": [],
      "authorship_tag": "ABX9TyNv3vv9TrZFQNPE2a3equA7",
      "include_colab_link": true
    },
    "kernelspec": {
      "name": "python3",
      "display_name": "Python 3"
    },
    "language_info": {
      "name": "python"
    }
  },
  "cells": [
    {
      "cell_type": "markdown",
      "metadata": {
        "id": "view-in-github",
        "colab_type": "text"
      },
      "source": [
        "<a href=\"https://colab.research.google.com/github/Geovanecost/2024.1-algoritmos/blob/main/Atividade_03_.ipynb\" target=\"_parent\"><img src=\"https://colab.research.google.com/assets/colab-badge.svg\" alt=\"Open In Colab\"/></a>"
      ]
    },
    {
      "cell_type": "code",
      "execution_count": null,
      "metadata": {
        "id": "CNLN7jT6j0dG"
      },
      "outputs": [],
      "source": []
    },
    {
      "cell_type": "markdown",
      "source": [
        "Q.1 Calculadora de IMC índice de massa corporal"
      ],
      "metadata": {
        "id": "hrZcwV0RkmJo"
      }
    },
    {
      "cell_type": "code",
      "source": [
        "# Solicite ao usuário seu peso e altura\n",
        "peso = float(input(\"Digite seu peso em kg: \"))\n",
        "altura = float(input(\"Digite sua altura em metros: \"))\n",
        "\n",
        "# Calcule o IMC = O peso dividido pela altura ao quadrado\n",
        "imc = peso / (altura * altura)\n",
        "\n",
        "# Classifique o IMC\n",
        "if imc < 18.5:\n",
        "    classificacao = \"Baixo peso\"\n",
        "elif 18.5 <= imc < 25:\n",
        "    classificacao = \"Peso normal\"\n",
        "elif 25 <= imc < 30:\n",
        "    classificacao = \"Sobrepeso\"\n",
        "else:\n",
        "    classificacao = \"Obesidade\"\n",
        "\n",
        "# Exiba o resultado\n",
        "print(f\"Seu IMC é {imc:.2f}, o que é classificado como {classificacao}.\")\n"
      ],
      "metadata": {
        "colab": {
          "base_uri": "https://localhost:8080/"
        },
        "id": "UMoJiv5BlIOl",
        "outputId": "e58f69a7-dde7-48f3-f842-37ec45f4d96d"
      },
      "execution_count": 10,
      "outputs": [
        {
          "output_type": "stream",
          "name": "stdout",
          "text": [
            "Digite seu peso em kg: 90\n",
            "Digite sua altura em metros: 1.80\n",
            "Seu IMC é 27.78, o que é classificado como Sobrepeso.\n"
          ]
        }
      ]
    },
    {
      "cell_type": "markdown",
      "source": [
        "Q.2 Verificador de Número Par ou Ímpar"
      ],
      "metadata": {
        "id": "vXZugXqPm1o2"
      }
    },
    {
      "cell_type": "code",
      "source": [
        "# Solicitar um número inteiro do usuário\n",
        "numero = int(input(\"Digite um número inteiro: \"))\n",
        "\n",
        "# Verificar se o número é par ou ímpar\n",
        "if numero % 2 == 0:\n",
        "    # Exibir uma mensagem se o número for par\n",
        "    print(f\"O número {numero} é par.\")\n",
        "else:\n",
        "    # Exibir uma mensagem se o número for ímpar\n",
        "    print(f\"O número {numero} é ímpar.\")"
      ],
      "metadata": {
        "colab": {
          "base_uri": "https://localhost:8080/"
        },
        "id": "2zAUwIJWm_5F",
        "outputId": "5ba67d11-4c2f-48a6-ecdf-9b0d4d2f4ddb"
      },
      "execution_count": 9,
      "outputs": [
        {
          "output_type": "stream",
          "name": "stdout",
          "text": [
            "Digite um número inteiro: 4\n",
            "O número 4 é par.\n"
          ]
        }
      ]
    },
    {
      "cell_type": "markdown",
      "source": [
        "Q.3 Conversor de Temperatura"
      ],
      "metadata": {
        "id": "zuAEmT6DnJcW"
      }
    },
    {
      "cell_type": "code",
      "source": [
        "# Solicitar ao usuário uma temperatura em Celsius\n",
        "celsius = float(input(\"Digite a temperatura em Celsius: \"))\n",
        "\n",
        "# Converter a temperatura para Fahrenheit usando a fórmula F = C * 9/5 + 32\n",
        "fahrenheit = celsius * 9/5 + 32\n",
        "\n",
        "# Exibir o resultado da conversão\n",
        "print(\"A temperatura em Fahrenheit é:\", fahrenheit)"
      ],
      "metadata": {
        "colab": {
          "base_uri": "https://localhost:8080/"
        },
        "id": "i1-IR_WRnRFv",
        "outputId": "636cae1b-eb87-449e-db69-16f7481f2f7a"
      },
      "execution_count": 8,
      "outputs": [
        {
          "output_type": "stream",
          "name": "stdout",
          "text": [
            "Digite a temperatura em Celsius: 32\n",
            "A temperatura em Fahrenheit é: 89.6\n"
          ]
        }
      ]
    },
    {
      "cell_type": "markdown",
      "source": [
        "Q.4 Tabuada de Multiplicação"
      ],
      "metadata": {
        "id": "eyaps2GznXwb"
      }
    },
    {
      "cell_type": "code",
      "source": [
        "# Solicitar ao usuário um número\n",
        "numero = int(input(\"Digite um número: \"))\n",
        "\n",
        "# Exibir a tabuada de multiplicação desse número de 1 a 10\n",
        "print(f\"Tabuada de multiplicação para o número {numero}:\")\n",
        "for i in range(1, 11):\n",
        "    resultado = numero * i\n",
        "    print(f\"{numero} x {i} = {resultado}\")"
      ],
      "metadata": {
        "colab": {
          "base_uri": "https://localhost:8080/"
        },
        "id": "3Kbf3ZJ-ndHB",
        "outputId": "b58e0566-5169-4927-d67e-a32c37528d1c"
      },
      "execution_count": 1,
      "outputs": [
        {
          "output_type": "stream",
          "name": "stdout",
          "text": [
            "Digite um número: 1\n",
            "Tabuada de multiplicação para o número 1:\n",
            "1 x 1 = 1\n",
            "1 x 2 = 2\n",
            "1 x 3 = 3\n",
            "1 x 4 = 4\n",
            "1 x 5 = 5\n",
            "1 x 6 = 6\n",
            "1 x 7 = 7\n",
            "1 x 8 = 8\n",
            "1 x 9 = 9\n",
            "1 x 10 = 10\n"
          ]
        }
      ]
    },
    {
      "cell_type": "markdown",
      "source": [
        "Q.5 Cálculo de Média Ponderada"
      ],
      "metadata": {
        "id": "NkYWQ0HSnsyg"
      }
    },
    {
      "cell_type": "code",
      "source": [
        "# Solicitar ao usuário as três notas e seus respectivos pesos\n",
        "nota1 = float(input(\"Digite a primeira nota: \"))\n",
        "peso1 = float(input(\"Digite o peso da primeira nota: \"))\n",
        "nota2 = float(input(\"Digite a segunda nota: \"))\n",
        "peso2 = float(input(\"Digite o peso da segunda nota: \"))\n",
        "nota3 = float(input(\"Digite a terceira nota: \"))\n",
        "peso3 = float(input(\"Digite o peso da terceira nota: \"))\n",
        "\n",
        "# Calcular a média ponderada das notas\n",
        "soma_pesos = peso1 + peso2 + peso3\n",
        "media_ponderada = (nota1 * peso1 + nota2 * peso2 + nota3 * peso3) / soma_pesos\n",
        "\n",
        "# Exibir o resultado da média ponderada\n",
        "print(\"A média ponderada das notas é:\", media_ponderada)"
      ],
      "metadata": {
        "colab": {
          "base_uri": "https://localhost:8080/",
          "height": 291
        },
        "id": "oXBrWjPenzzl",
        "outputId": "010a7b87-3872-40ab-ef6e-c63c0ec0d531"
      },
      "execution_count": 7,
      "outputs": [
        {
          "name": "stdout",
          "output_type": "stream",
          "text": [
            "Digite a primeira nota: 6\n",
            "Digite o peso da primeira nota: 5\n",
            "Digite a segunda nota: 4\n",
            "Digite o peso da segunda nota: \n"
          ]
        },
        {
          "output_type": "error",
          "ename": "ValueError",
          "evalue": "could not convert string to float: ''",
          "traceback": [
            "\u001b[0;31m---------------------------------------------------------------------------\u001b[0m",
            "\u001b[0;31mValueError\u001b[0m                                Traceback (most recent call last)",
            "\u001b[0;32m<ipython-input-7-1b4ed0c25335>\u001b[0m in \u001b[0;36m<cell line: 5>\u001b[0;34m()\u001b[0m\n\u001b[1;32m      3\u001b[0m \u001b[0mpeso1\u001b[0m \u001b[0;34m=\u001b[0m \u001b[0mfloat\u001b[0m\u001b[0;34m(\u001b[0m\u001b[0minput\u001b[0m\u001b[0;34m(\u001b[0m\u001b[0;34m\"Digite o peso da primeira nota: \"\u001b[0m\u001b[0;34m)\u001b[0m\u001b[0;34m)\u001b[0m\u001b[0;34m\u001b[0m\u001b[0;34m\u001b[0m\u001b[0m\n\u001b[1;32m      4\u001b[0m \u001b[0mnota2\u001b[0m \u001b[0;34m=\u001b[0m \u001b[0mfloat\u001b[0m\u001b[0;34m(\u001b[0m\u001b[0minput\u001b[0m\u001b[0;34m(\u001b[0m\u001b[0;34m\"Digite a segunda nota: \"\u001b[0m\u001b[0;34m)\u001b[0m\u001b[0;34m)\u001b[0m\u001b[0;34m\u001b[0m\u001b[0;34m\u001b[0m\u001b[0m\n\u001b[0;32m----> 5\u001b[0;31m \u001b[0mpeso2\u001b[0m \u001b[0;34m=\u001b[0m \u001b[0mfloat\u001b[0m\u001b[0;34m(\u001b[0m\u001b[0minput\u001b[0m\u001b[0;34m(\u001b[0m\u001b[0;34m\"Digite o peso da segunda nota: \"\u001b[0m\u001b[0;34m)\u001b[0m\u001b[0;34m)\u001b[0m\u001b[0;34m\u001b[0m\u001b[0;34m\u001b[0m\u001b[0m\n\u001b[0m\u001b[1;32m      6\u001b[0m \u001b[0mnota3\u001b[0m \u001b[0;34m=\u001b[0m \u001b[0mfloat\u001b[0m\u001b[0;34m(\u001b[0m\u001b[0minput\u001b[0m\u001b[0;34m(\u001b[0m\u001b[0;34m\"Digite a terceira nota: \"\u001b[0m\u001b[0;34m)\u001b[0m\u001b[0;34m)\u001b[0m\u001b[0;34m\u001b[0m\u001b[0;34m\u001b[0m\u001b[0m\n\u001b[1;32m      7\u001b[0m \u001b[0mpeso3\u001b[0m \u001b[0;34m=\u001b[0m \u001b[0mfloat\u001b[0m\u001b[0;34m(\u001b[0m\u001b[0minput\u001b[0m\u001b[0;34m(\u001b[0m\u001b[0;34m\"Digite o peso da terceira nota: \"\u001b[0m\u001b[0;34m)\u001b[0m\u001b[0;34m)\u001b[0m\u001b[0;34m\u001b[0m\u001b[0;34m\u001b[0m\u001b[0m\n",
            "\u001b[0;31mValueError\u001b[0m: could not convert string to float: ''"
          ]
        }
      ]
    },
    {
      "cell_type": "markdown",
      "source": [
        "Q.6 Verificador de Ano Bissexto"
      ],
      "metadata": {
        "id": "B2alYf6Hn5qA"
      }
    },
    {
      "cell_type": "code",
      "source": [
        "# Solicitar ao usuário um ano\n",
        "ano = int(input(\"Digite um ano: \"))\n",
        "\n",
        "# Verificar se o ano é bissexto\n",
        "if ano % 4 == 0 and (ano % 100 != 0 or ano % 400 == 0):\n",
        "    print(\"O ano é bissexto.\")\n",
        "else:\n",
        "    print(\"O ano não é bissexto.\")"
      ],
      "metadata": {
        "colab": {
          "base_uri": "https://localhost:8080/"
        },
        "id": "6MMQLV0vn-jt",
        "outputId": "cea4bb3c-7e5e-482a-8fa2-ad0135c815ca"
      },
      "execution_count": 6,
      "outputs": [
        {
          "output_type": "stream",
          "name": "stdout",
          "text": [
            "Digite um ano: 2020\n",
            "O ano é bissexto.\n"
          ]
        }
      ]
    },
    {
      "cell_type": "markdown",
      "source": [
        "Q.7 Contador de Vogais em uma String"
      ],
      "metadata": {
        "id": "KwDkbM_FoFS7"
      }
    },
    {
      "cell_type": "code",
      "source": [
        "# Solicitar ao usuário uma string\n",
        "string = input(\"Digite uma frase ou palavra: \")\n",
        "\n",
        "# Inicializar contador de vogais\n",
        "contador_vogais = 0\n",
        "\n",
        "# Verificar cada caractere na string e contar vogais\n",
        "for char in string:\n",
        "    # Verificar se o caractere é uma vogal (considerando letras minúsculas e maiúsculas)\n",
        "    if char.lower() in 'aeiou':\n",
        "        contador_vogais += 1\n",
        "\n",
        "# Exibir o número de vogais na string\n",
        "print(f\"O número de vogais na string é: {contador_vogais}\")"
      ],
      "metadata": {
        "colab": {
          "base_uri": "https://localhost:8080/"
        },
        "id": "jRxe_utVoMMd",
        "outputId": "3a8e8f98-8304-41ba-a6d2-93cb3d56f081"
      },
      "execution_count": 5,
      "outputs": [
        {
          "output_type": "stream",
          "name": "stdout",
          "text": [
            "Digite uma frase ou palavra: aviao\n",
            "O número de vogais na string é: 4\n"
          ]
        }
      ]
    },
    {
      "cell_type": "markdown",
      "source": [
        "Q.8 Calculadora de Fatorial"
      ],
      "metadata": {
        "id": "1Ux3-IRaoTpy"
      }
    },
    {
      "cell_type": "code",
      "source": [
        "# Solicitar ao usuário um número inteiro positivo\n",
        "numero = int(input(\"Digite um número inteiro positivo: \"))\n",
        "\n",
        "# Verificar se o número é positivo\n",
        "if numero < 0:\n",
        "    print(\"O número deve ser positivo.\")\n",
        "else:\n",
        "    # Inicializar o fatorial como 1\n",
        "    fatorial = 1\n",
        "\n",
        "    # Calcular o fatorial do número\n",
        "    for i in range(1, numero + 1):\n",
        "        fatorial *= i\n",
        "\n",
        "    # Exibir o resultado do fatorial\n",
        "    print(f\"O fatorial de {numero} é: {fatorial}\")"
      ],
      "metadata": {
        "colab": {
          "base_uri": "https://localhost:8080/"
        },
        "id": "oLt7rojOoYfI",
        "outputId": "022ca2a4-b3bf-421e-9e44-31a126a23561"
      },
      "execution_count": 4,
      "outputs": [
        {
          "output_type": "stream",
          "name": "stdout",
          "text": [
            "Digite um número inteiro positivo: 6\n",
            "O fatorial de 6 é: 720\n"
          ]
        }
      ]
    },
    {
      "cell_type": "markdown",
      "source": [
        "Q.9 Soma dos Números Pares em um Intervalo"
      ],
      "metadata": {
        "id": "cU5mpV-IohvS"
      }
    },
    {
      "cell_type": "code",
      "source": [
        "# Solicitar ao usuário dois números inteiros que representam um intervalo\n",
        "inicio = int(input(\"Digite o primeiro número do intervalo: \"))\n",
        "fim = int(input(\"Digite o último número do intervalo: \"))\n",
        "\n",
        "# Inicializar a soma dos números pares\n",
        "soma_pares = 0\n",
        "\n",
        "# Calcular a soma dos números pares dentro do intervalo\n",
        "for num in range(inicio, fim + 1):\n",
        "    if num % 2 == 0:\n",
        "        soma_pares += num\n",
        "\n",
        "# Exibir a soma dos números pares dentro do intervalo\n",
        "print(f\"A soma dos números pares de {inicio} a {fim} é: {soma_pares}\")"
      ],
      "metadata": {
        "colab": {
          "base_uri": "https://localhost:8080/"
        },
        "id": "1-33VHnRonDL",
        "outputId": "5cc54d48-77ce-48aa-8c6d-5dfa46b7083e"
      },
      "execution_count": 3,
      "outputs": [
        {
          "output_type": "stream",
          "name": "stdout",
          "text": [
            "Digite o primeiro número do intervalo: 2\n",
            "Digite o último número do intervalo: 1\n",
            "A soma dos números pares de 2 a 1 é: 0\n"
          ]
        }
      ]
    },
    {
      "cell_type": "markdown",
      "source": [
        "Q.10 Verificador de Número Primo"
      ],
      "metadata": {
        "id": "i_3Ejv6CotLl"
      }
    },
    {
      "cell_type": "code",
      "source": [
        "# Solicitar ao usuário um número inteiro positivo\n",
        "numero = int(input(\"Digite um número inteiro positivo: \"))\n",
        "\n",
        "# Verificar se o número é primo\n",
        "if numero <= 1:\n",
        "    primo = False\n",
        "else:\n",
        "    primo = True\n",
        "    for i in range(2, int(numero**0.5) + 1):\n",
        "        if numero % i == 0:\n",
        "            primo = False\n",
        "            break\n",
        "\n",
        "# Exibir uma mensagem correspondente\n",
        "if primo:\n",
        "    print(f\"{numero} é um número primo.\")\n",
        "else:\n",
        "    print(f\"{numero} não é um número primo.\")"
      ],
      "metadata": {
        "colab": {
          "base_uri": "https://localhost:8080/"
        },
        "id": "YSxY--0toynH",
        "outputId": "816290ba-db3f-45b9-f685-780f24f40b78"
      },
      "execution_count": 2,
      "outputs": [
        {
          "output_type": "stream",
          "name": "stdout",
          "text": [
            "Digite um número inteiro positivo: 5\n",
            "5 é um número primo.\n"
          ]
        }
      ]
    }
  ]
}