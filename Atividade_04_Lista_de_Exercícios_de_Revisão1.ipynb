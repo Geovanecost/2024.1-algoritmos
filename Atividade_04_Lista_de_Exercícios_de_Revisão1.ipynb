{
  "nbformat": 4,
  "nbformat_minor": 0,
  "metadata": {
    "colab": {
      "provenance": [],
      "authorship_tag": "ABX9TyPdbfyjCspRouuRjRw3Kdmo",
      "include_colab_link": true
    },
    "kernelspec": {
      "name": "python3",
      "display_name": "Python 3"
    },
    "language_info": {
      "name": "python"
    }
  },
  "cells": [
    {
      "cell_type": "markdown",
      "metadata": {
        "id": "view-in-github",
        "colab_type": "text"
      },
      "source": [
        "<a href=\"https://colab.research.google.com/github/Geovanecost/2024.1-algoritmos/blob/main/Atividade_04_Lista_de_Exerc%C3%ADcios_de_Revis%C3%A3o1.ipynb\" target=\"_parent\"><img src=\"https://colab.research.google.com/assets/colab-badge.svg\" alt=\"Open In Colab\"/></a>"
      ]
    },
    {
      "cell_type": "markdown",
      "source": [],
      "metadata": {
        "id": "ngL6D6kbgHq3"
      }
    },
    {
      "cell_type": "markdown",
      "source": [
        "questão 1."
      ],
      "metadata": {
        "id": "_u0IdYiggLF1"
      }
    },
    {
      "cell_type": "code",
      "execution_count": 1,
      "metadata": {
        "colab": {
          "base_uri": "https://localhost:8080/"
        },
        "id": "Ev6pohmyf1SH",
        "outputId": "0fdb91b9-5707-4908-911f-cb39343e9ecf"
      },
      "outputs": [
        {
          "output_type": "stream",
          "name": "stdout",
          "text": [
            "Olá mundo!\n"
          ]
        }
      ],
      "source": [
        "print('Olá mundo!')"
      ]
    },
    {
      "cell_type": "markdown",
      "source": [
        "questão 2."
      ],
      "metadata": {
        "id": "evo5fLDkgPfZ"
      }
    },
    {
      "cell_type": "code",
      "source": [
        "n1 = float(input('nota da primeira prova:'))\n",
        "n2 = float(input('nota da primeira prova:'))\n",
        "n3 = float(input('nota da primeira prova:'))\n",
        "\n",
        "media = (n1 + n2 + n3)/3\n",
        "print('a media das notas é!',media)"
      ],
      "metadata": {
        "colab": {
          "base_uri": "https://localhost:8080/"
        },
        "id": "m4SWbTcpksaq",
        "outputId": "5bb6d62f-06e1-47cf-df1b-39037587889f"
      },
      "execution_count": 11,
      "outputs": [
        {
          "output_type": "stream",
          "name": "stdout",
          "text": [
            "nota da primeira prova:8\n",
            "nota da primeira prova:7\n",
            "nota da primeira prova:6\n",
            "a media das notas é! 7.0\n"
          ]
        }
      ]
    },
    {
      "cell_type": "markdown",
      "source": [
        "questão 3.\n"
      ],
      "metadata": {
        "id": "UsVT49_EmctO"
      }
    },
    {
      "cell_type": "code",
      "source": [
        "print(\"Calculadora de médiaponderada do IFRN\")\n",
        "\n",
        "#Perguntando,para quantos alunos,desejo calcular média\n",
        "num_alunos = int(input(\"Digite o número de alunos: \"))\n",
        "\n",
        "for aluno in range(1, num_alunos+1):\n",
        "#imprima o numero do aluno da vez\n",
        "  print(f\"\\nAluno {aluno}:\")\n",
        "\n",
        "  #Float, tipagem explícita, para garantir número fracionário\n",
        "  n1 = float( input(\"Digite a nota 1(com peso 2): \") )\n",
        "  n2 = float( input(\"Digite a nota 2(com peso 3): \") )\n",
        "\n",
        "  #calculo de media ponderada\n",
        "  media = (n1 * 2 + n2 * 3) / 5\n",
        "\n",
        "  #impressão da média\n",
        "  print(f\"A média ponderada das notas é: {media:.2f}\")\n",
        "\n",
        "  #apresentar se o aluno foi aprovado ou não\n",
        "  if media >= 6:\n",
        "    print(\"Aprovado\")\n",
        "  else:\n",
        "    if n1 >= 4 and n2 >=4:\n",
        "      print(\"Prova final\")\n",
        "    else:\n",
        "      print(\"Reprovado\")\n",
        "\n",
        ""
      ],
      "metadata": {
        "colab": {
          "base_uri": "https://localhost:8080/"
        },
        "id": "Cx8OzXkrmiEC",
        "outputId": "4f46fd5f-4e72-4c67-82db-34b64accdcf8"
      },
      "execution_count": 14,
      "outputs": [
        {
          "output_type": "stream",
          "name": "stdout",
          "text": [
            "Calculadora de médiaponderada do IFRN\n",
            "Digite o número de alunos: 1\n",
            "\n",
            "Aluno 1:\n",
            "Digite a nota 1(com peso 2): 7\n",
            "Digite a nota 2(com peso 3): 8\n",
            "A média ponderada das notas é: 7.60\n",
            "Aprovado\n"
          ]
        }
      ]
    },
    {
      "cell_type": "markdown",
      "source": [
        "questão 4"
      ],
      "metadata": {
        "id": "aCDAPAp2nUh9"
      }
    },
    {
      "cell_type": "code",
      "source": [
        "# Função para determinar o maior número entre três números dados\n",
        "def encontrar_maior(numero1, numero2, numero3):\n",
        "    maior = numero1\n",
        "\n",
        "    if numero2 > maior:\n",
        "        maior = numero2\n",
        "\n",
        "    if numero3 > maior:\n",
        "        maior = numero3\n",
        "\n",
        "    return maior\n",
        "\n",
        "# Função principal para ler os números e chamar a função encontrar_maior\n",
        "def main():\n",
        "    try:\n",
        "        numero1 = float(input(\"Digite o primeiro número: \"))\n",
        "        numero2 = float(input(\"Digite o segundo número: \"))\n",
        "        numero3 = float(input(\"Digite o terceiro número: \"))\n",
        "\n",
        "        maior_numero = encontrar_maior(numero1, numero2, numero3)\n",
        "\n",
        "        print(f\"O maior número é: {maior_numero}\")\n",
        "\n",
        "    except ValueError:\n",
        "        print(\"Erro: por favor, digite apenas números válidos.\")\n",
        "\n",
        "# Execução do programa principal\n",
        "if __name__ == \"__main__\":\n",
        "    main()"
      ],
      "metadata": {
        "colab": {
          "base_uri": "https://localhost:8080/"
        },
        "id": "1jsLZ2uLnWzO",
        "outputId": "5d3351de-da41-4f16-9546-c9c6a3fc50f6"
      },
      "execution_count": 15,
      "outputs": [
        {
          "output_type": "stream",
          "name": "stdout",
          "text": [
            "Digite o primeiro número: 7\n",
            "Digite o segundo número: 5\n",
            "Digite o terceiro número: 7\n",
            "O maior número é: 7.0\n"
          ]
        }
      ]
    },
    {
      "cell_type": "markdown",
      "source": [
        "questão 5"
      ],
      "metadata": {
        "id": "tR6dHafGog1R"
      }
    },
    {
      "cell_type": "code",
      "source": [
        "def monitorar_qualidade_agua():\n",
        "    qualidade_agua = 0  # Simulação de um índice de qualidade da água\n",
        "    continuar_monitoramento = True\n",
        "\n",
        "    while continuar_monitoramento:\n",
        "        # Simular a leitura da qualidade da água (pode ser um valor aleatório para este exemplo)\n",
        "        import random\n",
        "        qualidade_agua = random.randint(0,100)\n",
        "\n",
        "\n",
        "        print(f\"Qualidade da água: {qualidade_agua}\")\n",
        "\n",
        "        # Verificar se o usuário deseja continuar monitorando\n",
        "        resposta = input(\"Deseja continuar monitorando? (s/n): \").lower()\n",
        "        if resposta != 's':\n",
        "            continuar_monitoramento = False\n",
        "\n",
        "    print(\"Monitoramento da qualidade da água encerrado.\")\n",
        "\n",
        "# Chamada da função principal\n",
        "monitorar_qualidade_agua()\n"
      ],
      "metadata": {
        "colab": {
          "base_uri": "https://localhost:8080/"
        },
        "id": "5uXmO3BAojQe",
        "outputId": "fc893df9-709f-4971-a08d-0c707d7ac5d5"
      },
      "execution_count": 18,
      "outputs": [
        {
          "output_type": "stream",
          "name": "stdout",
          "text": [
            "Qualidade da água: 2\n",
            "Deseja continuar monitorando? (s/n): s\n",
            "Qualidade da água: 81\n",
            "Deseja continuar monitorando? (s/n): n\n",
            "Monitoramento da qualidade da água encerrado.\n"
          ]
        }
      ]
    },
    {
      "cell_type": "markdown",
      "source": [
        "questão 6."
      ],
      "metadata": {
        "id": "X7SExtewo9JV"
      }
    },
    {
      "cell_type": "code",
      "source": [
        "def calcular_soma_1_a_100():\n",
        "    soma = 0\n",
        "    numero = 1\n",
        "\n",
        "    while numero <= 100:\n",
        "        soma += numero\n",
        "        numero += 1\n",
        "\n",
        "    return soma\n",
        "\n",
        "# Chamada da função para calcular a soma dos números de 1 a 100\n",
        "resultado = calcular_soma_1_a_100()\n",
        "print(f\"A soma dos números de 1 a 100 é: {resultado}\")\n"
      ],
      "metadata": {
        "colab": {
          "base_uri": "https://localhost:8080/"
        },
        "id": "OCrysgVVpD4s",
        "outputId": "d2625288-1bf8-4616-88b1-62b73c2124d9"
      },
      "execution_count": 19,
      "outputs": [
        {
          "output_type": "stream",
          "name": "stdout",
          "text": [
            "A soma dos números de 1 a 100 é: 5050\n"
          ]
        }
      ]
    },
    {
      "cell_type": "markdown",
      "source": [
        "questão 7."
      ],
      "metadata": {
        "id": "aqMY2a9epPnA"
      }
    },
    {
      "cell_type": "code",
      "source": [
        "def imprimir_impares_ate_50():\n",
        "    for numero in range(1, 51, 2):\n",
        "        print(numero)\n",
        "\n",
        "# Chamada da função para imprimir números ímpares de 1 a 50\n",
        "imprimir_impares_ate_50()\n"
      ],
      "metadata": {
        "colab": {
          "base_uri": "https://localhost:8080/"
        },
        "id": "DzvnqUlBpSJf",
        "outputId": "25cc58ae-94b8-454f-e832-d71935666cd6"
      },
      "execution_count": 20,
      "outputs": [
        {
          "output_type": "stream",
          "name": "stdout",
          "text": [
            "1\n",
            "3\n",
            "5\n",
            "7\n",
            "9\n",
            "11\n",
            "13\n",
            "15\n",
            "17\n",
            "19\n",
            "21\n",
            "23\n",
            "25\n",
            "27\n",
            "29\n",
            "31\n",
            "33\n",
            "35\n",
            "37\n",
            "39\n",
            "41\n",
            "43\n",
            "45\n",
            "47\n",
            "49\n"
          ]
        }
      ]
    },
    {
      "cell_type": "markdown",
      "source": [
        "questão 8."
      ],
      "metadata": {
        "id": "HWrDZ1NvpjfT"
      }
    },
    {
      "cell_type": "code",
      "source": [
        "def operacoes_com_listas_e_dicionarios():\n",
        "    # Operações com listas\n",
        "    lista_numeros = [1, 2, 3, 4, 5]\n",
        "\n",
        "    # Adicionando um elemento à lista\n",
        "    lista_numeros.append(6)\n",
        "\n",
        "    # Acessando um elemento pelo índice\n",
        "    print(f\"Elemento no índice 2 da lista: {lista_numeros[2]}\")\n",
        "\n",
        "    # Verificando se um elemento está na lista\n",
        "    elemento = 3\n",
        "    if elemento in lista_numeros:\n",
        "        print(f\"O elemento {elemento} está na lista.\")\n",
        "    else:\n",
        "        print(f\"O elemento {elemento} não está na lista.\")\n",
        "\n",
        "    # Operações com dicionários\n",
        "    dicionario_frutas = {\n",
        "        'maça': 3,\n",
        "        'banana': 5,\n",
        "        'laranja': 2\n",
        "    }\n",
        "\n",
        "    # Adicionando um par chave-valor ao dicionário\n",
        "    dicionario_frutas['uva'] = 4\n",
        "\n",
        "    # Acessando o valor de uma chave no dicionário\n",
        "    fruta = 'banana'\n",
        "    if fruta in dicionario_frutas:\n",
        "        print(f\"A quantidade de {fruta}s é: {dicionario_frutas[fruta]}\")\n",
        "\n",
        "    # Percorrendo os itens do dicionário\n",
        "    print(\"Itens do dicionário de frutas:\")\n",
        "    for chave, valor in dicionario_frutas.items():\n",
        "        print(f\"{chave}: {valor}\")\n",
        "\n",
        "# Chamada da função principal\n",
        "operacoes_com_listas_e_dicionarios()\n"
      ],
      "metadata": {
        "colab": {
          "base_uri": "https://localhost:8080/"
        },
        "id": "Dy61MMB-pl7c",
        "outputId": "af708be1-bbf8-454a-d71b-9acd07bae1a9"
      },
      "execution_count": 21,
      "outputs": [
        {
          "output_type": "stream",
          "name": "stdout",
          "text": [
            "Elemento no índice 2 da lista: 3\n",
            "O elemento 3 está na lista.\n",
            "A quantidade de bananas é: 5\n",
            "Itens do dicionário de frutas:\n",
            "maça: 3\n",
            "banana: 5\n",
            "laranja: 2\n",
            "uva: 4\n"
          ]
        }
      ]
    }
  ]
}