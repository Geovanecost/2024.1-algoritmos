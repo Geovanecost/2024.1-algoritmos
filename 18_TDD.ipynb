{
  "nbformat": 4,
  "nbformat_minor": 0,
  "metadata": {
    "colab": {
      "provenance": [],
      "authorship_tag": "ABX9TyOzS6yj0BwXmbW3MUpR1rBz",
      "include_colab_link": true
    },
    "kernelspec": {
      "name": "python3",
      "display_name": "Python 3"
    },
    "language_info": {
      "name": "python"
    }
  },
  "cells": [
    {
      "cell_type": "markdown",
      "metadata": {
        "id": "view-in-github",
        "colab_type": "text"
      },
      "source": [
        "<a href=\"https://colab.research.google.com/github/Geovanecost/2024.1-algoritmos/blob/main/18_TDD.ipynb\" target=\"_parent\"><img src=\"https://colab.research.google.com/assets/colab-badge.svg\" alt=\"Open In Colab\"/></a>"
      ]
    },
    {
      "cell_type": "code",
      "execution_count": null,
      "metadata": {
        "id": "Q2jbNDAqlrlX"
      },
      "outputs": [],
      "source": [
        "#Programa para avaliar a saida de uma funçao dado uma entrada\n",
        "import random\n",
        "\n",
        "#esqueleto de uma funçao para gerar uma lista de 28 numeros aleatorios entre 1 e 100\n",
        "def gerar_lista_aleatoria():\n",
        "  pass\n",
        "\n",
        "  #esqueleto de uma funçao para gerar uma lista de 28 numeros aleatorios distintos entre 1 e 100\n",
        "  def gerar_lista_aleatoria_distintos():\n",
        "    pass\n",
        "\n",
        "    #esqueleto de uma funçao para embaralhar a lista\n",
        "    def embaralhar_lista():\n",
        "      pass\n"
      ]
    }
  ]
}