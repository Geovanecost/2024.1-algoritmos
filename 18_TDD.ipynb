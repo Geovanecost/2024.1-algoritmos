{
  "nbformat": 4,
  "nbformat_minor": 0,
  "metadata": {
    "colab": {
      "provenance": [],
      "authorship_tag": "ABX9TyNrfwFDETer0vucICVKxA2U",
      "include_colab_link": true
    },
    "kernelspec": {
      "name": "python3",
      "display_name": "Python 3"
    },
    "language_info": {
      "name": "python"
    }
  },
  "cells": [
    {
      "cell_type": "markdown",
      "metadata": {
        "id": "view-in-github",
        "colab_type": "text"
      },
      "source": [
        "<a href=\"https://colab.research.google.com/github/Geovanecost/2024.1-algoritmos/blob/main/18_TDD.ipynb\" target=\"_parent\"><img src=\"https://colab.research.google.com/assets/colab-badge.svg\" alt=\"Open In Colab\"/></a>"
      ]
    },
    {
      "cell_type": "code",
      "source": [
        "#TDD - O Test-Driven Development (TDD), ou Desenvolvimento Orientado a Testes,\n",
        "#é uma metodologia de desenvolvimento de software que enfatiza a criação e\n",
        "#execução de testes antes mesmo do desenvolvimento do código\n",
        "\n",
        "#programa para avaliar a saída de uma função dado uma entrada\n",
        "import random\n",
        "\n",
        "#esqueleto de uma função para gerar uma lista de 28 numeros aleatorios, entre 1 e 100\n",
        "def gerar_lista_aleatoria():\n",
        "  lista = []\n",
        "  for i in range(28):\n",
        "    lista.append(random.randint(1,100))\n",
        "  return lista\n",
        "print(gerar_lista_aleatoria())\n",
        "  #pass\n",
        "  #return [random.randint(1, 100) for _ in range(28)] #codigo simplficado, com Python - List Comprehension\n",
        "\n",
        "#Esqueleto de uma função para gerar uma lista de 28 numeros aleatorios distintos entre 1 e 100\n",
        "def gerar_lista_aleatoria_distintos():\n",
        "    lista = random.sample(range(1,101), 28)\n",
        "    return lista\n",
        "print(gerar_lista_aleatoria_distintos())\n",
        "  #pass\n",
        "  #return random.sample(range(1, 101), 28)\n",
        "\n",
        "#esqueleto de uma função para embaralhar a lista\n",
        "def embaralhar_lista(lista): #lembrar que os alunos nao colocaram esse argumento, na escrita original\n",
        "  random.shuffle(lista)\n",
        "  return lista\n",
        "print(embaralhar_lista(gerar_lista_aleatoria()))\n",
        "  #pass\n",
        "  #random.shuffle(lista)x\n",
        "  #return lista"
      ],
      "metadata": {
        "id": "jwtjdzCLBZXA"
      },
      "execution_count": null,
      "outputs": []
    }
  ]
}