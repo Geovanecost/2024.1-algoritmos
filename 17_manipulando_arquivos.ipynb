{
  "nbformat": 4,
  "nbformat_minor": 0,
  "metadata": {
    "colab": {
      "provenance": [],
      "include_colab_link": true
    },
    "kernelspec": {
      "name": "python3",
      "display_name": "Python 3"
    },
    "language_info": {
      "name": "python"
    }
  },
  "cells": [
    {
      "cell_type": "markdown",
      "metadata": {
        "id": "view-in-github",
        "colab_type": "text"
      },
      "source": [
        "<a href=\"https://colab.research.google.com/github/Geovanecost/2024.1-algoritmos/blob/main/17_manipulando_arquivos.ipynb\" target=\"_parent\"><img src=\"https://colab.research.google.com/assets/colab-badge.svg\" alt=\"Open In Colab\"/></a>"
      ]
    },
    {
      "cell_type": "code",
      "execution_count": null,
      "metadata": {
        "id": "CUFo5J7LckJp"
      },
      "outputs": [],
      "source": [
        "#escreveu em um arquivo\n",
        "arquivo = open('numeros.txt', 'w')\n",
        "for linha in range(1,101):\n",
        "  arquivo.write('%d\\n' % linha)\n",
        "arquivo.close()"
      ]
    },
    {
      "cell_type": "code",
      "source": [
        "#leitura de um arquivo\n",
        "arquivo = open('numeros.txt', 'r')\n",
        "texto = arquivo.read()\n",
        "print(texto)\n",
        "arquivo.close()"
      ],
      "metadata": {
        "colab": {
          "base_uri": "https://localhost:8080/"
        },
        "id": "FOhLr17hdZ01",
        "outputId": "5b1e9e99-890c-49ba-ca47-15d5878d03a4"
      },
      "execution_count": null,
      "outputs": [
        {
          "output_type": "stream",
          "name": "stdout",
          "text": [
            "1\n",
            "2\n",
            "3\n",
            "4\n",
            "5\n",
            "6\n",
            "7\n",
            "8\n",
            "9\n",
            "10\n",
            "11\n",
            "12\n",
            "13\n",
            "14\n",
            "15\n",
            "16\n",
            "17\n",
            "18\n",
            "19\n",
            "20\n",
            "21\n",
            "22\n",
            "23\n",
            "24\n",
            "25\n",
            "26\n",
            "27\n",
            "28\n",
            "29\n",
            "30\n",
            "31\n",
            "32\n",
            "33\n",
            "34\n",
            "35\n",
            "36\n",
            "37\n",
            "38\n",
            "39\n",
            "40\n",
            "41\n",
            "42\n",
            "43\n",
            "44\n",
            "45\n",
            "46\n",
            "47\n",
            "48\n",
            "49\n",
            "50\n",
            "51\n",
            "52\n",
            "53\n",
            "54\n",
            "55\n",
            "56\n",
            "57\n",
            "58\n",
            "59\n",
            "60\n",
            "61\n",
            "62\n",
            "63\n",
            "64\n",
            "65\n",
            "66\n",
            "67\n",
            "68\n",
            "69\n",
            "70\n",
            "71\n",
            "72\n",
            "73\n",
            "74\n",
            "75\n",
            "76\n",
            "77\n",
            "78\n",
            "79\n",
            "80\n",
            "81\n",
            "82\n",
            "83\n",
            "84\n",
            "85\n",
            "86\n",
            "87\n",
            "88\n",
            "89\n",
            "90\n",
            "91\n",
            "92\n",
            "93\n",
            "94\n",
            "95\n",
            "96\n",
            "97\n",
            "98\n",
            "99\n",
            "100\n",
            "\n"
          ]
        }
      ]
    },
    {
      "cell_type": "code",
      "source": [
        "#leitura linha por linha\n",
        "arquivo = open('numeros.txt', 'r')\n",
        "for linha in arquivo.readlines():\n",
        "  print(linha)\n",
        "arquivo.close()"
      ],
      "metadata": {
        "colab": {
          "base_uri": "https://localhost:8080/"
        },
        "id": "xbQryxEVe8MF",
        "outputId": "7e4cbfa8-07dc-44df-e1be-89285357e147"
      },
      "execution_count": null,
      "outputs": [
        {
          "output_type": "stream",
          "name": "stdout",
          "text": [
            "1\n",
            "\n",
            "2\n",
            "\n",
            "3\n",
            "\n",
            "4\n",
            "\n",
            "5\n",
            "\n",
            "6\n",
            "\n",
            "7\n",
            "\n",
            "8\n",
            "\n",
            "9\n",
            "\n",
            "10\n",
            "\n",
            "11\n",
            "\n",
            "12\n",
            "\n",
            "13\n",
            "\n",
            "14\n",
            "\n",
            "15\n",
            "\n",
            "16\n",
            "\n",
            "17\n",
            "\n",
            "18\n",
            "\n",
            "19\n",
            "\n",
            "20\n",
            "\n",
            "21\n",
            "\n",
            "22\n",
            "\n",
            "23\n",
            "\n",
            "24\n",
            "\n",
            "25\n",
            "\n",
            "26\n",
            "\n",
            "27\n",
            "\n",
            "28\n",
            "\n",
            "29\n",
            "\n",
            "30\n",
            "\n",
            "31\n",
            "\n",
            "32\n",
            "\n",
            "33\n",
            "\n",
            "34\n",
            "\n",
            "35\n",
            "\n",
            "36\n",
            "\n",
            "37\n",
            "\n",
            "38\n",
            "\n",
            "39\n",
            "\n",
            "40\n",
            "\n",
            "41\n",
            "\n",
            "42\n",
            "\n",
            "43\n",
            "\n",
            "44\n",
            "\n",
            "45\n",
            "\n",
            "46\n",
            "\n",
            "47\n",
            "\n",
            "48\n",
            "\n",
            "49\n",
            "\n",
            "50\n",
            "\n",
            "51\n",
            "\n",
            "52\n",
            "\n",
            "53\n",
            "\n",
            "54\n",
            "\n",
            "55\n",
            "\n",
            "56\n",
            "\n",
            "57\n",
            "\n",
            "58\n",
            "\n",
            "59\n",
            "\n",
            "60\n",
            "\n",
            "61\n",
            "\n",
            "62\n",
            "\n",
            "63\n",
            "\n",
            "64\n",
            "\n",
            "65\n",
            "\n",
            "66\n",
            "\n",
            "67\n",
            "\n",
            "68\n",
            "\n",
            "69\n",
            "\n",
            "70\n",
            "\n",
            "71\n",
            "\n",
            "72\n",
            "\n",
            "73\n",
            "\n",
            "74\n",
            "\n",
            "75\n",
            "\n",
            "76\n",
            "\n",
            "77\n",
            "\n",
            "78\n",
            "\n",
            "79\n",
            "\n",
            "80\n",
            "\n",
            "81\n",
            "\n",
            "82\n",
            "\n",
            "83\n",
            "\n",
            "84\n",
            "\n",
            "85\n",
            "\n",
            "86\n",
            "\n",
            "87\n",
            "\n",
            "88\n",
            "\n",
            "89\n",
            "\n",
            "90\n",
            "\n",
            "91\n",
            "\n",
            "92\n",
            "\n",
            "93\n",
            "\n",
            "94\n",
            "\n",
            "95\n",
            "\n",
            "96\n",
            "\n",
            "97\n",
            "\n",
            "98\n",
            "\n",
            "99\n",
            "\n",
            "100\n",
            "\n"
          ]
        }
      ]
    },
    {
      "cell_type": "code",
      "source": [
        "#leitura linha por linha\n",
        "arquivo = open('numeros.txt', 'r')\n",
        "for linha in arquivo.readlines():\n",
        "  print(linha.rstrip())\n",
        "arquivo.close()"
      ],
      "metadata": {
        "colab": {
          "base_uri": "https://localhost:8080/"
        },
        "id": "P81ICH1Sfd7R",
        "outputId": "a6e2d724-338c-4572-dbfd-df7cc54a0432"
      },
      "execution_count": null,
      "outputs": [
        {
          "output_type": "stream",
          "name": "stdout",
          "text": [
            "1\n",
            "2\n",
            "3\n",
            "4\n",
            "5\n",
            "6\n",
            "7\n",
            "8\n",
            "9\n",
            "10\n",
            "11\n",
            "12\n",
            "13\n",
            "14\n",
            "15\n",
            "16\n",
            "17\n",
            "18\n",
            "19\n",
            "20\n",
            "21\n",
            "22\n",
            "23\n",
            "24\n",
            "25\n",
            "26\n",
            "27\n",
            "28\n",
            "29\n",
            "30\n",
            "31\n",
            "32\n",
            "33\n",
            "34\n",
            "35\n",
            "36\n",
            "37\n",
            "38\n",
            "39\n",
            "40\n",
            "41\n",
            "42\n",
            "43\n",
            "44\n",
            "45\n",
            "46\n",
            "47\n",
            "48\n",
            "49\n",
            "50\n",
            "51\n",
            "52\n",
            "53\n",
            "54\n",
            "55\n",
            "56\n",
            "57\n",
            "58\n",
            "59\n",
            "60\n",
            "61\n",
            "62\n",
            "63\n",
            "64\n",
            "65\n",
            "66\n",
            "67\n",
            "68\n",
            "69\n",
            "70\n",
            "71\n",
            "72\n",
            "73\n",
            "74\n",
            "75\n",
            "76\n",
            "77\n",
            "78\n",
            "79\n",
            "80\n",
            "81\n",
            "82\n",
            "83\n",
            "84\n",
            "85\n",
            "86\n",
            "87\n",
            "88\n",
            "89\n",
            "90\n",
            "91\n",
            "92\n",
            "93\n",
            "94\n",
            "95\n",
            "96\n",
            "97\n",
            "98\n",
            "99\n",
            "100\n"
          ]
        }
      ]
    },
    {
      "cell_type": "code",
      "source": [
        "#Criptografia de um arquivo\n",
        "def criptografa(msg):\n",
        "  s = \"\"\n",
        "  #Cifra de césar (adaptada)\n",
        "  for i in msg:\n",
        "    s += chr(ord(i)+1536)\n",
        "  return s\n",
        "\n",
        "\n",
        "def descriptografar(msg):\n",
        "  s = \"\"\n",
        "  for i in msg:\n",
        "    s += chr(ord(i)-1536)\n",
        "  return s\n",
        "\n",
        "texto_cripto = criptografa(texto)\n",
        "arquivo_cripto = open('texto_cripto.txt', 'w', encoding = 'utf-8')\n",
        "arquivo_cripto.write(texto_cripto)\n",
        "arquivo_cripto.close()\n"
      ],
      "metadata": {
        "id": "uq43FpSogfIy"
      },
      "execution_count": null,
      "outputs": []
    },
    {
      "cell_type": "code",
      "source": [
        "#Descriptografar\n",
        "#Criptografia de um arquivo\n",
        "def criptografa(msg):\n",
        "  s = \"\"\n",
        "  #Cifra de césar (adaptada)\n",
        "  for i in msg:\n",
        "    s += chr(ord(i)+1536)\n",
        "  return s\n",
        "\n",
        "\n",
        "def descriptografar(msg):\n",
        "  s = \"\"\n",
        "  for i in msg:\n",
        "    s += chr(ord(i)-1536)\n",
        "  return s\n",
        "\n",
        "\n",
        "arquivo_descripto = open('texto_cripto.txt', 'r', encoding='utf-8')\n",
        "print(arquivo_descripto.read())\n",
        "print(descriptografar(arquivo_descripto.read()))\n",
        "arquivo_descripto.close()"
      ],
      "metadata": {
        "colab": {
          "base_uri": "https://localhost:8080/",
          "height": 220
        },
        "id": "z6PG1HJiqH7M",
        "outputId": "2de687a4-e7d3-4bba-845b-8b6fd57ab444"
      },
      "execution_count": 10,
      "outputs": [
        {
          "output_type": "error",
          "ename": "FileNotFoundError",
          "evalue": "[Errno 2] No such file or directory: 'texto_cripto.txt'",
          "traceback": [
            "\u001b[0;31m---------------------------------------------------------------------------\u001b[0m",
            "\u001b[0;31mFileNotFoundError\u001b[0m                         Traceback (most recent call last)",
            "\u001b[0;32m<ipython-input-10-3f506654f126>\u001b[0m in \u001b[0;36m<cell line: 18>\u001b[0;34m()\u001b[0m\n\u001b[1;32m     16\u001b[0m \u001b[0;34m\u001b[0m\u001b[0m\n\u001b[1;32m     17\u001b[0m \u001b[0;34m\u001b[0m\u001b[0m\n\u001b[0;32m---> 18\u001b[0;31m \u001b[0marquivo_descripto\u001b[0m \u001b[0;34m=\u001b[0m \u001b[0mopen\u001b[0m\u001b[0;34m(\u001b[0m\u001b[0;34m'texto_cripto.txt'\u001b[0m\u001b[0;34m,\u001b[0m \u001b[0;34m'r'\u001b[0m\u001b[0;34m,\u001b[0m \u001b[0mencoding\u001b[0m\u001b[0;34m=\u001b[0m\u001b[0;34m'utf-8'\u001b[0m\u001b[0;34m)\u001b[0m\u001b[0;34m\u001b[0m\u001b[0;34m\u001b[0m\u001b[0m\n\u001b[0m\u001b[1;32m     19\u001b[0m \u001b[0mprint\u001b[0m\u001b[0;34m(\u001b[0m\u001b[0marquivo_descripto\u001b[0m\u001b[0;34m.\u001b[0m\u001b[0mread\u001b[0m\u001b[0;34m(\u001b[0m\u001b[0;34m)\u001b[0m\u001b[0;34m)\u001b[0m\u001b[0;34m\u001b[0m\u001b[0;34m\u001b[0m\u001b[0m\n\u001b[1;32m     20\u001b[0m \u001b[0mprint\u001b[0m\u001b[0;34m(\u001b[0m\u001b[0mdescriptografar\u001b[0m\u001b[0;34m(\u001b[0m\u001b[0marquivo_descripto\u001b[0m\u001b[0;34m.\u001b[0m\u001b[0mread\u001b[0m\u001b[0;34m(\u001b[0m\u001b[0;34m)\u001b[0m\u001b[0;34m)\u001b[0m\u001b[0;34m)\u001b[0m\u001b[0;34m\u001b[0m\u001b[0;34m\u001b[0m\u001b[0m\n",
            "\u001b[0;31mFileNotFoundError\u001b[0m: [Errno 2] No such file or directory: 'texto_cripto.txt'"
          ]
        }
      ]
    },
    {
      "cell_type": "code",
      "source": [
        "# Chamada de comandos do terminal (Modo Simples)\n",
        "import os\n",
        "print (os.popen(\"echo Helloo World\").read())\n",
        "print (os.popen(\"ls\").read())"
      ],
      "metadata": {
        "id": "87oDyd_avjvX",
        "outputId": "0bbda5fb-4148-4e20-cbbf-feb127e47e8c",
        "colab": {
          "base_uri": "https://localhost:8080/"
        }
      },
      "execution_count": 22,
      "outputs": [
        {
          "output_type": "stream",
          "name": "stdout",
          "text": [
            "Helloo World\n",
            "\n",
            "bin\n",
            "boot\n",
            "content\n",
            "cuda-keyring_1.0-1_all.deb\n",
            "datalab\n",
            "dev\n",
            "etc\n",
            "home\n",
            "lib\n",
            "lib32\n",
            "lib64\n",
            "libx32\n",
            "media\n",
            "mnt\n",
            "NGC-DL-CONTAINER-LICENSE\n",
            "opt\n",
            "proc\n",
            "python-apt\n",
            "root\n",
            "run\n",
            "sbin\n",
            "srv\n",
            "sys\n",
            "tmp\n",
            "tools\n",
            "usr\n",
            "var\n",
            "\n"
          ]
        }
      ]
    },
    {
      "cell_type": "code",
      "source": [
        "#o modulo OS\n",
        "import os\n",
        "dir_atual = os.getcwd()\n",
        "print(dir_atual)\n",
        "print(os.listdir())"
      ],
      "metadata": {
        "id": "cdbyrWlUwlSz",
        "outputId": "434b083d-504b-4369-f17f-fef8b0d0dc7b",
        "colab": {
          "base_uri": "https://localhost:8080/"
        }
      },
      "execution_count": 2,
      "outputs": [
        {
          "output_type": "stream",
          "name": "stdout",
          "text": [
            "/content\n",
            "['.config', 'sample_data']\n"
          ]
        }
      ]
    },
    {
      "cell_type": "code",
      "source": [
        "os.chdir(\"sample_data\")\n",
        "print(os.getcwd())\n",
        "print(os.listdir())"
      ],
      "metadata": {
        "id": "Jzrk1Xj36ZgK",
        "outputId": "5199cc9b-1230-4aef-c387-32118e1c30d8",
        "colab": {
          "base_uri": "https://localhost:8080/"
        }
      },
      "execution_count": 3,
      "outputs": [
        {
          "output_type": "stream",
          "name": "stdout",
          "text": [
            "/content/sample_data\n",
            "['README.md', 'anscombe.json', 'mnist_train_small.csv', 'california_housing_test.csv', 'mnist_test.csv', 'california_housing_train.csv']\n"
          ]
        }
      ]
    },
    {
      "cell_type": "code",
      "source": [
        "#chamada de comandos do terminal\n",
        "print(os.popen(\"echo Hello World\").read())\n",
        "print(os.popen(\"ls\").read())"
      ],
      "metadata": {
        "id": "OdSoKVCK6dVR",
        "outputId": "029951a5-5f20-4f42-b452-4cde5f325e26",
        "colab": {
          "base_uri": "https://localhost:8080/"
        }
      },
      "execution_count": 4,
      "outputs": [
        {
          "output_type": "stream",
          "name": "stdout",
          "text": [
            "Hello World\n",
            "\n",
            "anscombe.json\n",
            "california_housing_test.csv\n",
            "california_housing_train.csv\n",
            "mnist_test.csv\n",
            "mnist_train_small.csv\n",
            "README.md\n",
            "\n"
          ]
        }
      ]
    },
    {
      "cell_type": "code",
      "source": [
        "print(os.getcwd())\n",
        "print(os.path.exists(\"sample_data\"))\n",
        "print(os.path.exists(\"mnist_test.csv\"))"
      ],
      "metadata": {
        "id": "F0cc94f-7jgS",
        "outputId": "1014e1a0-4897-4b58-f0c0-e1c64cb3fe79",
        "colab": {
          "base_uri": "https://localhost:8080/"
        }
      },
      "execution_count": 7,
      "outputs": [
        {
          "output_type": "stream",
          "name": "stdout",
          "text": [
            "/content/sample_data\n",
            "False\n",
            "True\n"
          ]
        }
      ]
    },
    {
      "cell_type": "code",
      "source": [
        "#O modulo SYS\n",
        "import sys\n",
        "\n",
        "print(sys.platform)\n",
        "print(sys.version)\n",
        "print(sys.version_info)\n"
      ],
      "metadata": {
        "id": "n-RfsvVe8TNK",
        "outputId": "d023e1c7-c1f8-4075-c8f9-997a69706ec1",
        "colab": {
          "base_uri": "https://localhost:8080/"
        }
      },
      "execution_count": 9,
      "outputs": [
        {
          "output_type": "stream",
          "name": "stdout",
          "text": [
            "linux\n",
            "3.10.12 (main, Jul 29 2024, 16:56:48) [GCC 11.4.0]\n",
            "sys.version_info(major=3, minor=10, micro=12, releaselevel='final', serial=0)\n"
          ]
        }
      ]
    },
    {
      "cell_type": "code",
      "source": [
        "#executar no desktop\n",
        "print(\"Numero de argumentos: %d\" % len(sys.argv))\n",
        "print(\"Argumentos: \")\n",
        "for arg in sys.argv:\n",
        "  print('##', arg)"
      ],
      "metadata": {
        "id": "9Eye22cX85oE",
        "outputId": "e1279c98-90c2-4aa1-b6f1-8d829507b8b0",
        "colab": {
          "base_uri": "https://localhost:8080/"
        }
      },
      "execution_count": 12,
      "outputs": [
        {
          "output_type": "stream",
          "name": "stdout",
          "text": [
            "Numero de argumentos: 3\n",
            "Argumentos: \n",
            "## /usr/local/lib/python3.10/dist-packages/colab_kernel_launcher.py\n",
            "## -f\n",
            "## /root/.local/share/jupyter/runtime/kernel-fb1f3ce3-61b9-4056-9248-55e04e7b5421.json\n"
          ]
        }
      ]
    }
  ]
}