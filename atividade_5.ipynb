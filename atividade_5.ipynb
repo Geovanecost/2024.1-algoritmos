{
  "nbformat": 4,
  "nbformat_minor": 0,
  "metadata": {
    "colab": {
      "provenance": [],
      "authorship_tag": "ABX9TyNRr5dNyCGKyOpU6t3A5JlA",
      "include_colab_link": true
    },
    "kernelspec": {
      "name": "python3",
      "display_name": "Python 3"
    },
    "language_info": {
      "name": "python"
    }
  },
  "cells": [
    {
      "cell_type": "markdown",
      "metadata": {
        "id": "view-in-github",
        "colab_type": "text"
      },
      "source": [
        "<a href=\"https://colab.research.google.com/github/Geovanecost/2024.1-algoritmos/blob/main/atividade_5.ipynb\" target=\"_parent\"><img src=\"https://colab.research.google.com/assets/colab-badge.svg\" alt=\"Open In Colab\"/></a>"
      ]
    },
    {
      "cell_type": "markdown",
      "source": [
        "1. Crie um programa que leia um número inteiro. Quando este for negativo,\n",
        "some-o com 100; quando positivo, apenas faça sua impressão.\n"
      ],
      "metadata": {
        "id": "BhiWz_gQ9sx4"
      }
    },
    {
      "cell_type": "code",
      "execution_count": 5,
      "metadata": {
        "colab": {
          "base_uri": "https://localhost:8080/"
        },
        "id": "Si5WssqTqrAH",
        "outputId": "923afab6-6136-4ea0-ca35-968d604c6840"
      },
      "outputs": [
        {
          "name": "stdout",
          "output_type": "stream",
          "text": [
            "digite o número: 100\n"
          ]
        }
      ],
      "source": [
        "Num = int(input(\"digite o número: \"))\n",
        "while Num < 0 :\n",
        "  Num += 100\n",
        "  if Num > 0 :\n",
        "    print(Num)"
      ]
    },
    {
      "cell_type": "markdown",
      "source": [
        "2. Crie um programa que leia o código de um curso do IFRN, Campus\n",
        "Natal Central, e indique o nome do curso de acordo com a tabela abaixo. Se o\n",
        "programa ler um código inexistente no Instituto, uma mensagem de alerta deve\n",
        "ser informada ao usuário.\n",
        "Código Curso\n",
        "1 Técnico em Informática\n",
        "Subseqüente\n",
        "2 Técnico em Informática EJA\n",
        "3 Técnico em Cooperativismo\n",
        "4 Técnico em Cooperativismo EJA\n",
        "5 Licenciatura em Física"
      ],
      "metadata": {
        "id": "fnUYzFwx95YW"
      }
    },
    {
      "cell_type": "code",
      "source": [
        "curso = int(input('Digite o código do curso : '))\n",
        "\n",
        "if curso == 1:\n",
        "      print('Técnico em informática subsequente')\n",
        "elif curso == 2:\n",
        "      print('Técnico em informática subsequente EJA')\n",
        "elif curso == 3:\n",
        "      print('Técnico em cooperativismo subsequente')\n",
        "elif curso == 4:\n",
        "      print('Técnico em cooperativismo subsequente EJA')\n",
        "elif curso == 5:\n",
        "      print('Licenciatura em física')\n",
        "if curso < 0:\n",
        "      print('Código inválido')\n",
        "if curso > 5:\n",
        "      print('Código inválido')\n"
      ],
      "metadata": {
        "colab": {
          "base_uri": "https://localhost:8080/"
        },
        "id": "ORNpO7co-BhC",
        "outputId": "36cedc14-b54e-4438-bc42-49eec32dc0c6"
      },
      "execution_count": 3,
      "outputs": [
        {
          "output_type": "stream",
          "name": "stdout",
          "text": [
            "Digite o código do curso : 4\n",
            "Técnico em cooperativismo subsequente EJA\n"
          ]
        }
      ]
    },
    {
      "cell_type": "markdown",
      "source": [
        "\n",
        "3. Leia duas strings e informe o conteúdo delas\n",
        "seguido do seu comprimento.\n",
        "3a. Crie uma variável res1 que informa se as duas\n",
        "strings possuem o mesmo comprimento.\n",
        "Observe o exemplo:\n",
        "● Compara duas strings\n",
        "● string1: Brasil Hexa 2006\n",
        "● string2: Brasil! Hexa 2006!\n",
        "● Tamanho de \"Brasil Hexa 2006\": 16 caracteres\n",
        "● Tamanho de \"Brasil! Hexa 2006!\": 18 caracteres"
      ],
      "metadata": {
        "id": "fb-Kl-YcA8n1"
      }
    },
    {
      "cell_type": "code",
      "source": [
        "res1 = '0 Brasil vai ser hexa na copa de 2030!!'\n",
        "res2 = 'O Brasil é muito grande!!'\n",
        "tamanho1 = len(res1)\n",
        "tamanho2 = len(res2)\n",
        "print('string 1:',res1)\n",
        "print('string 2:',res2)\n",
        "print('Tamanho de :',res1,':',tamanho1,'Caracteres.')\n",
        "print('Tamanho de :',res2,':',tamanho2,'Caracteres.')\n"
      ],
      "metadata": {
        "colab": {
          "base_uri": "https://localhost:8080/"
        },
        "id": "3d8yjSpSA-eH",
        "outputId": "d1e14147-01bc-456b-95dd-2f0adc1ea1a2"
      },
      "execution_count": 5,
      "outputs": [
        {
          "output_type": "stream",
          "name": "stdout",
          "text": [
            "string 1: 0 Brasil vai ser hexa na copa de 2030!!\n",
            "string 2: O Brasil é muito grande!!\n",
            "Tamanho de : 0 Brasil vai ser hexa na copa de 2030!! : 39 Caracteres.\n",
            "Tamanho de : O Brasil é muito grande!! : 25 Caracteres.\n"
          ]
        }
      ]
    },
    {
      "cell_type": "markdown",
      "source": [
        "3b. Crie uma variável res2 que informa se as duasstrings são iguais ou diferentes no conteúdo.\n",
        "Observe o exemplo:\n",
        "● Compara duas strings\n",
        "● string1: Brasil Hexa 2006\n",
        "● string2: Brasil! Hexa 2006!\n",
        "● Res1 = len(string1) == len(string2)\n",
        "● Res2 = (string1 == string2)"
      ],
      "metadata": {
        "id": "Wz4Z_GGBEG53"
      }
    },
    {
      "cell_type": "code",
      "source": [
        "res1 = '0 Brasil vai ser hexa na copa de 2030!!'\n",
        "res2 = 'O Brasil é muito grande!!'\n",
        "if len(res1) == len(res2):\n",
        "  print('As strings são iguais')\n",
        "else:\n",
        "  print('As strings são diferentes')"
      ],
      "metadata": {
        "colab": {
          "base_uri": "https://localhost:8080/"
        },
        "id": "AXM2lTyzELRd",
        "outputId": "ce0275c2-1535-471a-98c6-7b21ea97b2cc"
      },
      "execution_count": 6,
      "outputs": [
        {
          "output_type": "stream",
          "name": "stdout",
          "text": [
            "As strings são diferentes\n"
          ]
        }
      ]
    },
    {
      "cell_type": "markdown",
      "source": [
        "4. Faça um programa que ler uma string e cortaos dois primeiros caracteres e os dois últimos\n",
        "Exemplo:\n",
        "● B = “0123456789”\n",
        "● Resultado = “234567”"
      ],
      "metadata": {
        "id": "T9_AHzU2EwUI"
      }
    },
    {
      "cell_type": "code",
      "source": [
        "loteria = '974563863287'\n",
        "print(loteria)\n",
        "print('resultado =',loteria [2:-2])"
      ],
      "metadata": {
        "colab": {
          "base_uri": "https://localhost:8080/"
        },
        "id": "PScZ3EAdE6az",
        "outputId": "b4b8461e-bbe7-44e9-e3a9-d9b72682598b"
      },
      "execution_count": 8,
      "outputs": [
        {
          "output_type": "stream",
          "name": "stdout",
          "text": [
            "974563863287\n",
            "resultado = 45638632\n"
          ]
        }
      ]
    }
  ]
}