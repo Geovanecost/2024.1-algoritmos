{
  "nbformat": 4,
  "nbformat_minor": 0,
  "metadata": {
    "colab": {
      "provenance": [],
      "authorship_tag": "ABX9TyMBc4XuEZt8Q6SkhtdUWwkG",
      "include_colab_link": true
    },
    "kernelspec": {
      "name": "python3",
      "display_name": "Python 3"
    },
    "language_info": {
      "name": "python"
    }
  },
  "cells": [
    {
      "cell_type": "markdown",
      "metadata": {
        "id": "view-in-github",
        "colab_type": "text"
      },
      "source": [
        "<a href=\"https://colab.research.google.com/github/Geovanecost/2024.1-algoritmos/blob/main/14_matrizes.ipynb\" target=\"_parent\"><img src=\"https://colab.research.google.com/assets/colab-badge.svg\" alt=\"Open In Colab\"/></a>"
      ]
    },
    {
      "cell_type": "code",
      "source": [
        "M = [1,2,3,4,5,6] #(unidimensional)\n",
        "print(M)"
      ],
      "metadata": {
        "colab": {
          "base_uri": "https://localhost:8080/"
        },
        "id": "GBf_F2i30G6d",
        "outputId": "db13657f-06e8-406f-c8ae-044277d4cefd"
      },
      "execution_count": 7,
      "outputs": [
        {
          "output_type": "stream",
          "name": "stdout",
          "text": [
            "[1, 2, 3, 4, 5, 6]\n"
          ]
        }
      ]
    },
    {
      "cell_type": "code",
      "source": [
        "M = [[1,1,1],[1,1,1],[1,1,1]]\n",
        "print(M)\n",
        "M = [[1]*3]*3 #Bidimensional\n",
        "print(M)"
      ],
      "metadata": {
        "colab": {
          "base_uri": "https://localhost:8080/"
        },
        "id": "7MmFzwJJ0Xty",
        "outputId": "b483ef41-3002-4640-d985-257edc664fb6"
      },
      "execution_count": 8,
      "outputs": [
        {
          "output_type": "stream",
          "name": "stdout",
          "text": [
            "[[1, 1, 1], [1, 1, 1], [1, 1, 1]]\n",
            "[[1, 1, 1], [1, 1, 1], [1, 1, 1]]\n"
          ]
        }
      ]
    }
  ]
}