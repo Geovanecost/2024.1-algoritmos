{
  "nbformat": 4,
  "nbformat_minor": 0,
  "metadata": {
    "colab": {
      "provenance": [],
      "include_colab_link": true
    },
    "kernelspec": {
      "name": "python3",
      "display_name": "Python 3"
    },
    "language_info": {
      "name": "python"
    }
  },
  "cells": [
    {
      "cell_type": "markdown",
      "metadata": {
        "id": "view-in-github",
        "colab_type": "text"
      },
      "source": [
        "<a href=\"https://colab.research.google.com/github/Geovanecost/2024.1-algoritmos/blob/main/Atividade_05_exercicios_funcoes_listas.ipynb\" target=\"_parent\"><img src=\"https://colab.research.google.com/assets/colab-badge.svg\" alt=\"Open In Colab\"/></a>"
      ]
    },
    {
      "cell_type": "code",
      "execution_count": 1,
      "metadata": {
        "id": "WDI5v1rJE5Jk",
        "colab": {
          "base_uri": "https://localhost:8080/",
          "height": 228
        },
        "outputId": "08c36b25-a84f-46fe-8915-e22c8559e84a"
      },
      "outputs": [
        {
          "output_type": "stream",
          "name": "stdout",
          "text": [
            "Mounted at /content/drive\n"
          ]
        },
        {
          "output_type": "error",
          "ename": "FileNotFoundError",
          "evalue": "[Errno 2] No such file or directory: '/content/drive/MyDrive/Colab Notebooks/20241_alg_est'",
          "traceback": [
            "\u001b[0;31m---------------------------------------------------------------------------\u001b[0m",
            "\u001b[0;31mFileNotFoundError\u001b[0m                         Traceback (most recent call last)",
            "\u001b[0;32m<ipython-input-1-5f328046dd72>\u001b[0m in \u001b[0;36m<cell line: 10>\u001b[0;34m()\u001b[0m\n\u001b[1;32m      8\u001b[0m \u001b[0;34m\u001b[0m\u001b[0m\n\u001b[1;32m      9\u001b[0m \u001b[0;31m# Navegar para o diretório de destino\u001b[0m\u001b[0;34m\u001b[0m\u001b[0;34m\u001b[0m\u001b[0m\n\u001b[0;32m---> 10\u001b[0;31m \u001b[0mos\u001b[0m\u001b[0;34m.\u001b[0m\u001b[0mchdir\u001b[0m\u001b[0;34m(\u001b[0m\u001b[0;34m'/content/drive/MyDrive/Colab Notebooks/20241_alg_est'\u001b[0m\u001b[0;34m)\u001b[0m\u001b[0;34m\u001b[0m\u001b[0;34m\u001b[0m\u001b[0m\n\u001b[0m\u001b[1;32m     11\u001b[0m \u001b[0;34m\u001b[0m\u001b[0m\n\u001b[1;32m     12\u001b[0m \u001b[0;31m# Função para perguntar ao usuário o caminho do arquivo no Google Drive\u001b[0m\u001b[0;34m\u001b[0m\u001b[0;34m\u001b[0m\u001b[0m\n",
            "\u001b[0;31mFileNotFoundError\u001b[0m: [Errno 2] No such file or directory: '/content/drive/MyDrive/Colab Notebooks/20241_alg_est'"
          ]
        }
      ],
      "source": [
        "from google.colab import drive  # Tratar Google Drive\n",
        "import os                       # Acessar comandos do SO\n",
        "import importlib.util           # Importação do arquivo\n",
        "import unittest                 # Realizar os testes unitários\n",
        "\n",
        "# Montando a pasta no Google Drive\n",
        "drive.mount('/content/drive')\n",
        "\n",
        "# Navegar para o diretório de destino\n",
        "os.chdir('/content/drive/MyDrive/Colab Notebooks/20241_alg_est')\n",
        "\n",
        "# Função para perguntar ao usuário o caminho do arquivo no Google Drive\n",
        "def obter_caminho_arquivo():\n",
        "    caminho = input(\"Digite o caminho completo do arquivo no Google Drive (ex: '/content/drive/MyDrive/Colab Notebooks/20241_alg_est/palindromo.ipynb'): \")\n",
        "    print(f\"O caminho fornecido foi: {caminho}\")\n",
        "    return caminho\n",
        "\n",
        "# Converter notebook para script Python e importar o módulo\n",
        "def importar_modulo(caminho_notebook):\n",
        "    # Converter o notebook para um script Python\n",
        "    !jupyter nbconvert --to script \"{caminho_notebook}\"\n",
        "\n",
        "    # Substituir a extensão '.ipynb' por '.py' para localizar o arquivo convertido\n",
        "    caminho_py = caminho_notebook.replace('.ipynb', '.py')\n",
        "\n",
        "    # Caso o arquivo tenha sido gerado como '.txt', renomeie para '.py'\n",
        "    if os.path.exists(caminho_py.replace('.py', '.txt')):\n",
        "        os.rename(caminho_py.replace('.py', '.txt'), caminho_py)\n",
        "\n",
        "    # Importar o script Python gerado\n",
        "    spec = importlib.util.spec_from_file_location(\"module\", caminho_py)\n",
        "    modulo = importlib.util.module_from_spec(spec)\n",
        "    spec.loader.exec_module(modulo)\n",
        "    return modulo\n",
        "\n",
        "#importar ja com caminhos\n",
        "palindromo_module = importar_modulo(\"/content/drive/MyDrive/Colab Notebooks/20241_alg_est/Atividade_05_palindromo.ipynb\")\n",
        "contagem_module = importar_modulo(\"/content/drive/MyDrive/Colab Notebooks/20241_alg_est/Atividade_05_contagem.ipynb\")\n",
        "inverter_module = importar_modulo(\"/content/drive/MyDrive/Colab Notebooks/20241_alg_est/Atividade_05_inverter.ipynb\")\n",
        "converter_module = importar_modulo(\"/content/drive/MyDrive/Colab Notebooks/20241_alg_est/Atividade_05_converter.ipynb\")\n",
        "contar_module = importar_modulo(\"/content/drive/MyDrive/Colab Notebooks/20241_alg_est/Atividade_05_contar.ipynb\")\n",
        "\n",
        "\n",
        "# Importar os módulos\n",
        "#palindromo_module = importar_modulo(obter_caminho_arquivo())\n",
        "#contagem_module = importar_modulo(obter_caminho_arquivo())\n",
        "#inverter_module = importar_modulo(obter_caminho_arquivo())\n",
        "#converter_module = importar_modulo(obter_caminho_arquivo())\n",
        "#contar_module = importar_modulo(obter_caminho_arquivo())\n",
        "\n",
        "# Testes Unificados\n",
        "class TestListaDeExercicios(unittest.TestCase):\n",
        "\n",
        "    # Testes para o palíndromo\n",
        "    def test_palindromo_simples(self):\n",
        "        self.assertTrue(palindromo_module.eh_palindromo(\"radar\"))\n",
        "\n",
        "    def test_palindromo_com_espacos(self):\n",
        "        self.assertTrue(palindromo_module.eh_palindromo(\"A man a plan a canal Panama\"))\n",
        "\n",
        "    def test_nao_palindromo(self):\n",
        "        self.assertFalse(palindromo_module.eh_palindromo(\"algoritmo\"))\n",
        "\n",
        "    # Testes para contagem de palavras\n",
        "    def test_contagem_palavra(self):\n",
        "        with open(\"teste.txt\", \"w\") as f:\n",
        "            f.write(\"Ola mundo. O mundo é grande.\")\n",
        "        self.assertEqual(contagem_module.contar_palavra(\"teste.txt\", \"mundo\"), 2)\n",
        "\n",
        "    def test_palavra_nao_presente(self):\n",
        "        with open(\"teste.txt\", \"w\") as f:\n",
        "            f.write(\"Ola universo.\")\n",
        "        self.assertEqual(contagem_module.contar_palavra(\"teste.txt\", \"mundo\"), 0)\n",
        "\n",
        "    # Testes para inverter string\n",
        "    def test_inverter_simples(self):\n",
        "        self.assertEqual(inverter_module.inverter_string(\"algoritmo\"), \"omtirgola\")\n",
        "\n",
        "    def test_inverter_com_espacos(self):\n",
        "        self.assertEqual(inverter_module.inverter_string(\"estrutura de dados\"), \"sodad ed aruturtse\")\n",
        "\n",
        "    def test_inverter_vazio(self):\n",
        "        self.assertEqual(inverter_module.inverter_string(\"\"), \"\")\n",
        "\n",
        "    # Testes para converter para maiúsculas\n",
        "    def test_converter(self):\n",
        "        with open(\"entrada.txt\", \"w\") as f:\n",
        "            f.write(\"Python é divertido.\")\n",
        "        converter_module.converter_para_maiusculas(\"entrada.txt\", \"saida.txt\")\n",
        "        with open(\"saida.txt\", \"r\") as f:\n",
        "            conteudo = f.read()\n",
        "        self.assertEqual(conteudo, \"PYTHON É DIVERTIDO.\")\n",
        "\n",
        "    # Testes para contar caracteres\n",
        "    def test_contagem_simples(self):\n",
        "        self.assertEqual(contar_module.contar_caracteres(\"abcabc\"), {'a': 2, 'b': 2, 'c': 2})\n",
        "\n",
        "    def test_contagem_com_espacos(self):\n",
        "        self.assertEqual(contar_module.contar_caracteres(\"a b c a b c\"), {'a': 2, ' ': 5, 'b': 2, 'c': 2})\n",
        "\n",
        "    def test_contagem_vazio(self):\n",
        "        self.assertEqual(contar_module.contar_caracteres(\"\"), {})\n",
        "\n",
        "if __name__ == '__main__':\n",
        "    unittest.main(argv=[''], verbosity=2, exit=False)\n"
      ]
    }
  ]
}