{
  "nbformat": 4,
  "nbformat_minor": 0,
  "metadata": {
    "colab": {
      "provenance": [],
      "authorship_tag": "ABX9TyNT8r1UzyKoEBX/qJKyoM3s",
      "include_colab_link": true
    },
    "kernelspec": {
      "name": "python3",
      "display_name": "Python 3"
    },
    "language_info": {
      "name": "python"
    }
  },
  "cells": [
    {
      "cell_type": "markdown",
      "metadata": {
        "id": "view-in-github",
        "colab_type": "text"
      },
      "source": [
        "<a href=\"https://colab.research.google.com/github/Geovanecost/2024.1-algoritmos/blob/main/11_numeros_aleatorios.ipynb\" target=\"_parent\"><img src=\"https://colab.research.google.com/assets/colab-badge.svg\" alt=\"Open In Colab\"/></a>"
      ]
    },
    {
      "cell_type": "code",
      "source": [
        "import random\n",
        "\n",
        "print(random.randint(1, 100))"
      ],
      "metadata": {
        "colab": {
          "base_uri": "https://localhost:8080/"
        },
        "id": "G8p7ka7imBsz",
        "outputId": "a672da91-7ab1-41b6-ec44-7f56224851a2"
      },
      "execution_count": 23,
      "outputs": [
        {
          "output_type": "stream",
          "name": "stdout",
          "text": [
            "77\n"
          ]
        }
      ]
    },
    {
      "cell_type": "code",
      "source": [
        "alunos = ['Daniel', 'Joao','Beatriz','Maria']\n",
        "print(random.choice(alunos))\n",
        "print(random.choice(alunos))\n",
        "print(random.choice(alunos))\n"
      ],
      "metadata": {
        "colab": {
          "base_uri": "https://localhost:8080/"
        },
        "id": "pUq3sy0apZVP",
        "outputId": "1c01f198-f114-4303-8681-8d3186223bda"
      },
      "execution_count": 24,
      "outputs": [
        {
          "output_type": "stream",
          "name": "stdout",
          "text": [
            "Joao\n",
            "Maria\n",
            "Joao\n"
          ]
        }
      ]
    },
    {
      "cell_type": "code",
      "source": [
        " alunos = ['Daniel','Joao','Beatriz','Maria']\n",
        " print(alunos)\n",
        " print(random.shuffle(alunos))\n",
        " print(alunos)"
      ],
      "metadata": {
        "colab": {
          "base_uri": "https://localhost:8080/"
        },
        "id": "DgzJNHg1qV7m",
        "outputId": "1ebf53c2-a682-4013-8cc2-e1de29b4e402"
      },
      "execution_count": 25,
      "outputs": [
        {
          "output_type": "stream",
          "name": "stdout",
          "text": [
            "['Daniel', 'Joao', 'Beatriz', 'Maria']\n",
            "None\n",
            "['Beatriz', 'Maria', 'Joao', 'Daniel']\n"
          ]
        }
      ]
    },
    {
      "cell_type": "code",
      "source": [],
      "metadata": {
        "id": "IVIGTVZ3oplm"
      },
      "execution_count": null,
      "outputs": []
    },
    {
      "cell_type": "markdown",
      "source": [
        "Função para embaralhar letras de uma palavra"
      ],
      "metadata": {
        "id": "aGCyxQHvqsIm"
      }
    },
    {
      "cell_type": "code",
      "source": [
        "def embaralha(palavra):\n",
        "  import random\n",
        "  lista = list(palavra)\n",
        "  print(lista)\n",
        "  random.shuffle(lista)\n",
        "  print(lista)\n",
        "  return ''.join(lista)\n",
        "\n",
        "palavra = embaralha('programacao')\n",
        "print(palavra)\n",
        "\n"
      ],
      "metadata": {
        "colab": {
          "base_uri": "https://localhost:8080/"
        },
        "id": "efcVgxaGqzAa",
        "outputId": "d8cbb4fd-4139-48d4-e826-5f8c487d7978"
      },
      "execution_count": 16,
      "outputs": [
        {
          "output_type": "stream",
          "name": "stdout",
          "text": [
            "['p', 'r', 'o', 'g', 'r', 'a', 'm', 'a', 'c', 'a', 'o']\n",
            "['r', 'a', 'm', 'c', 'a', 'o', 'r', 'o', 'p', 'a', 'g']\n",
            "ramcaoropag\n"
          ]
        }
      ]
    },
    {
      "cell_type": "code",
      "execution_count": null,
      "metadata": {
        "id": "CkIc48W5lAxp"
      },
      "outputs": [],
      "source": []
    }
  ]
}