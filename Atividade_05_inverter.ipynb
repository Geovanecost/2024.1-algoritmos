{
  "nbformat": 4,
  "nbformat_minor": 0,
  "metadata": {
    "colab": {
      "provenance": [],
      "authorship_tag": "ABX9TyOWmtcYkJN8daUdnJiqGHyU",
      "include_colab_link": true
    },
    "kernelspec": {
      "name": "python3",
      "display_name": "Python 3"
    },
    "language_info": {
      "name": "python"
    }
  },
  "cells": [
    {
      "cell_type": "markdown",
      "metadata": {
        "id": "view-in-github",
        "colab_type": "text"
      },
      "source": [
        "<a href=\"https://colab.research.google.com/github/Geovanecost/2024.1-algoritmos/blob/main/Atividade_05_inverter.ipynb\" target=\"_parent\"><img src=\"https://colab.research.google.com/assets/colab-badge.svg\" alt=\"Open In Colab\"/></a>"
      ]
    },
    {
      "cell_type": "code",
      "execution_count": 3,
      "metadata": {
        "id": "BT50h0aFyidk",
        "outputId": "d3132c68-0316-4083-b580-bc9023b5ad86",
        "colab": {
          "base_uri": "https://localhost:8080/"
        }
      },
      "outputs": [
        {
          "output_type": "stream",
          "name": "stdout",
          "text": [
            "ocirtele\n",
            "oaçurtsnoc\n",
            "ralucatepse\n"
          ]
        }
      ],
      "source": [
        "def inverter_string(palavra):\n",
        "  palavra = palavra[::-1]\n",
        "  return palavra\n",
        "\n",
        "  #pass\n",
        "\n",
        "print(inverter_string ('eletrico'))\n",
        "print(inverter_string ('construçao'))\n",
        "print(inverter_string ('espetacular'))"
      ]
    }
  ]
}