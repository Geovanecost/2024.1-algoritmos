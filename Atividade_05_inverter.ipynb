{
  "nbformat": 4,
  "nbformat_minor": 0,
  "metadata": {
    "colab": {
      "provenance": [],
      "authorship_tag": "ABX9TyOWvFDjEjhFV7h6Y6/tJuhb",
      "include_colab_link": true
    },
    "kernelspec": {
      "name": "python3",
      "display_name": "Python 3"
    },
    "language_info": {
      "name": "python"
    }
  },
  "cells": [
    {
      "cell_type": "markdown",
      "metadata": {
        "id": "view-in-github",
        "colab_type": "text"
      },
      "source": [
        "<a href=\"https://colab.research.google.com/github/Geovanecost/2024.1-algoritmos/blob/main/Atividade_05_inverter.ipynb\" target=\"_parent\"><img src=\"https://colab.research.google.com/assets/colab-badge.svg\" alt=\"Open In Colab\"/></a>"
      ]
    },
    {
      "cell_type": "code",
      "execution_count": null,
      "metadata": {
        "id": "BT50h0aFyidk"
      },
      "outputs": [],
      "source": [
        "def inverter_string(string):\n",
        "    string_invertida = \"\"\n",
        "    for i in range(len(string) - 1, -1, -1):\n",
        "        string_invertida += string[i]\n",
        "    return string_invertida\n",
        " pass"
      ]
    }
  ]
}