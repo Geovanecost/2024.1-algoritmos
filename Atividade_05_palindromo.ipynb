{
  "nbformat": 4,
  "nbformat_minor": 0,
  "metadata": {
    "colab": {
      "provenance": [],
      "authorship_tag": "ABX9TyMLaNNT2EXyLGhvV9kZbwTj",
      "include_colab_link": true
    },
    "kernelspec": {
      "name": "python3",
      "display_name": "Python 3"
    },
    "language_info": {
      "name": "python"
    }
  },
  "cells": [
    {
      "cell_type": "markdown",
      "metadata": {
        "id": "view-in-github",
        "colab_type": "text"
      },
      "source": [
        "<a href=\"https://colab.research.google.com/github/Geovanecost/2024.1-algoritmos/blob/main/Atividade_05_palindromo.ipynb\" target=\"_parent\"><img src=\"https://colab.research.google.com/assets/colab-badge.svg\" alt=\"Open In Colab\"/></a>"
      ]
    },
    {
      "cell_type": "code",
      "execution_count": 8,
      "metadata": {
        "id": "qLcH_qY5w4ku",
        "outputId": "c4802796-4efb-4624-8dcf-1180188fdd32",
        "colab": {
          "base_uri": "https://localhost:8080/"
        }
      },
      "outputs": [
        {
          "output_type": "stream",
          "name": "stdout",
          "text": [
            "True\n",
            "True\n",
            "False\n"
          ]
        }
      ],
      "source": [
        "def eh_palindromo(palavra):\n",
        "  #pass\n",
        "  palavra=palavra.replace(\" \",\"\")\n",
        "  return palavra == palavra[::-1]\n",
        "print(eh_palindromo(\"ovo\"))\n",
        "print(eh_palindromo(\"arara\"))\n",
        "print(eh_palindromo(\"python\"))"
      ]
    },
    {
      "cell_type": "code",
      "source": [],
      "metadata": {
        "id": "j74YbZirWD1b"
      },
      "execution_count": null,
      "outputs": []
    }
  ]
}